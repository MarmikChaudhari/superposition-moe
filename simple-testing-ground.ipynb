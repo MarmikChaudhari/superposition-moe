{
 "cells": [
  {
   "cell_type": "code",
   "execution_count": null,
   "id": "1adcad71",
   "metadata": {},
   "outputs": [],
   "source": [
    "import sys\n",
    "import torch\n",
    "from model.model import Config, MoEModel, optimize"
   ]
  },
  {
   "cell_type": "code",
   "execution_count": 35,
   "id": "aaa97177",
   "metadata": {},
   "outputs": [
    {
     "name": "stderr",
     "output_type": "stream",
     "text": [
      "/var/folders/05/8sm04f1518vb5nwx_fr10tvc0000gp/T/ipykernel_36459/75079970.py:19: UserWarning:\n",
      "\n",
      "To copy construct from a tensor, it is recommended to use sourceTensor.clone().detach() or sourceTensor.clone().detach().requires_grad_(True), rather than torch.tensor(sourceTensor).\n",
      "\n"
     ]
    },
    {
     "name": "stdout",
     "output_type": "stream",
     "text": [
      "Training model...\n",
      "Step 0: loss=0.106905, lr=0.001000\n",
      "Step 500: loss=0.049430, lr=0.001000\n",
      "Step 1000: loss=0.032918, lr=0.001000\n",
      "Step 1500: loss=0.005400, lr=0.001000\n",
      "Step 2000: loss=0.004574, lr=0.001000\n",
      "Step 2500: loss=0.001364, lr=0.001000\n",
      "Step 3000: loss=0.003468, lr=0.001000\n",
      "Step 3500: loss=0.002156, lr=0.001000\n",
      "Step 4000: loss=0.002542, lr=0.001000\n",
      "Step 4500: loss=0.003625, lr=0.001000\n",
      "Step 4999: loss=0.006719, lr=0.001000\n",
      "Gate matrix:\n",
      "Parameter containing:\n",
      "tensor([[-0.2965, -0.4569,  0.5824],\n",
      "        [-0.1849,  0.7613, -0.2996]], requires_grad=True)\n",
      "Expert weights:\n",
      "Parameter containing:\n",
      "tensor([[[ 3.7119e-05, -4.1666e-05],\n",
      "         [ 6.6592e-01,  7.4549e-01],\n",
      "         [ 7.4576e-01, -6.6615e-01]],\n",
      "\n",
      "        [[-1.0011e+00, -1.2473e-02],\n",
      "         [-1.4240e-02,  1.0007e+00],\n",
      "         [ 9.7353e-01,  1.8987e-02]]], requires_grad=True)\n",
      "\n",
      "Final model parameters:\n",
      "Feature probability: 0.10000000149011612\n",
      "Importance weights: tensor([1.0000, 0.5000, 0.2500])\n"
     ]
    }
   ],
   "source": [
    "\n",
    "\n",
    "# Set device\n",
    "if torch.cuda.is_available():\n",
    "  DEVICE = 'cuda'\n",
    "else:\n",
    "  DEVICE = 'cpu'\n",
    "\n",
    "config = Config(\n",
    "    n_features = 3,\n",
    "    n_hidden = 2,\n",
    "    n_experts = 2,\n",
    "    n_active_experts = 1,\n",
    "    load_balancing_loss = False,\n",
    ")\n",
    "\n",
    "# Configure importance and feature probability (sparsity)\n",
    "model = MoEModel(\n",
    "    config=config,\n",
    "    device=DEVICE,\n",
    "    importance = torch.tensor(0.5**torch.arange(3)),\n",
    "    feature_probability = torch.tensor(0.1)\n",
    ")\n",
    "\n",
    "# Train the model\n",
    "print(\"Training model...\")\n",
    "optimize(model, n_batch=512, steps=5000, print_freq=500, lr=1e-3)\n",
    "\n",
    "print(\"Gate matrix:\")\n",
    "print(model.gate)\n",
    "print(\"Expert weights:\")\n",
    "print(model.W_experts)\n",
    "\n",
    "# Print final model parameters\n",
    "print(\"\\nFinal model parameters:\")\n",
    "print(f\"Feature probability: {model.feature_probability.item()}\")\n",
    "print(f\"Importance weights: {model.importance}\")"
   ]
  }
 ],
 "metadata": {
  "kernelspec": {
   "display_name": "py311_env",
   "language": "python",
   "name": "python3"
  },
  "language_info": {
   "codemirror_mode": {
    "name": "ipython",
    "version": 3
   },
   "file_extension": ".py",
   "mimetype": "text/x-python",
   "name": "python",
   "nbconvert_exporter": "python",
   "pygments_lexer": "ipython3",
   "version": "3.11.13"
  }
 },
 "nbformat": 4,
 "nbformat_minor": 5
}
