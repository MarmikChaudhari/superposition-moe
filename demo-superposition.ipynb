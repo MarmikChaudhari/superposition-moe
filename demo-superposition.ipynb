{
 "cells": [
  {
   "cell_type": "code",
   "execution_count": 1,
   "id": "d97a7288",
   "metadata": {},
   "outputs": [],
   "source": [
    "from model.model import *\n",
    "from plotly.subplots import make_subplots\n",
    "import plotly.express as px\n",
    "import plotly.graph_objects as go\n",
    "import matplotlib.pyplot as plt\n",
    "from scipy.stats import rankdata"
   ]
  },
  {
   "cell_type": "code",
   "execution_count": 52,
   "id": "98fc3d9d",
   "metadata": {},
   "outputs": [],
   "source": [
    "config = Config(\n",
    "    n_features = 100,\n",
    "    n_hidden = 5,\n",
    "    n_experts = 4,\n",
    "    n_active_experts = 1,\n",
    "    load_balancing_loss = False,\n",
    ")\n",
    "\n",
    "\n",
    "model = MoEModel(\n",
    "    config=config,\n",
    "    device=DEVICE,\n",
    "    importance = 0.7**torch.arange(config.n_features), # torch.ones(config.n_features),\n",
    "    feature_probability = torch.tensor(0.1)\n",
    ")"
   ]
  },
  {
   "cell_type": "code",
   "execution_count": null,
   "id": "aa81f160",
   "metadata": {},
   "outputs": [],
   "source": [
    "optimize(model, n_batch=1024, steps=10000, print_freq=1000)"
   ]
  },
  {
   "cell_type": "code",
   "execution_count": 5,
   "id": "296c18b9",
   "metadata": {},
   "outputs": [],
   "source": [
    "def render_features(model):\n",
    "  cfg = model.config\n",
    "  # expert weights\n",
    "  W_exp = model.W_experts.detach()\n",
    "  W_norm = W_exp / (1e-5 + torch.linalg.norm(W_exp, 2, dim=2, keepdim=True))\n",
    "\n",
    "  interference = torch.einsum('ifh,igh->ifg', W_norm, W_exp) # (n_experts, n_features, n_features)\n",
    "  interference[:, torch.arange(cfg.n_features), torch.arange(cfg.n_features)] = 0 # set diagonal to 0\n",
    "\n",
    "  polysemanticity = torch.linalg.norm(interference, dim=-1).cpu()\n",
    "\n",
    "  if model.feature_probability.dim() == 0:\n",
    "    feature_prob_expanded = model.feature_probability.expand(cfg.n_features)\n",
    "  else:\n",
    "    feature_prob_expanded = model.feature_probability\n",
    "  net_interference = (interference**2 * feature_prob_expanded[None, None, :]).sum(-1).cpu()\n",
    "  norms = torch.linalg.norm(W_exp, 2, dim=-1).cpu()\n",
    "\n",
    "  WWT = torch.einsum('eij,ekj->eik', W_exp, W_exp).cpu() # (n_experts, n_features, n_features)\n",
    "\n",
    "  # width = weights[0].cpu()\n",
    "  # x = torch.cumsum(width+0.1, 0) - width[0]\n",
    "  x = torch.arange(cfg.n_features)\n",
    "  width = 0.9\n",
    "\n",
    "  fig = make_subplots(\n",
    "      rows=cfg.n_experts,  # Row per expert\n",
    "      cols=2,  # Column 1: bar graphs, Column 2: heatmaps\n",
    "      shared_xaxes=False,\n",
    "      vertical_spacing=0.1, # increased from 0.05 to 0.1\n",
    "      horizontal_spacing=0.1,\n",
    "      subplot_titles=[f\"expert {i}\" if j == 0 else \"\" \n",
    "               for i in range(cfg.n_experts) for j in range(2)],\n",
    "    #   subplot_titles=[f\"expert {i}\" if j == 0 else f\"expert {i}\" \n",
    "                    #  for i in range(cfg.n_experts) for j in range(2)],\n",
    "  )\n",
    "  for expert_idx in range(cfg.n_experts):\n",
    "        fig.add_trace(\n",
    "          go.Bar(\n",
    "              x=x, \n",
    "              y=norms[expert_idx],\n",
    "              marker=dict(\n",
    "                  color=polysemanticity[expert_idx],\n",
    "                  cmin=0,\n",
    "                  cmax=1\n",
    "              ),\n",
    "          ),\n",
    "          row=expert_idx+1, col=1  # Left column for bar graphs\n",
    "      )\n",
    "      # Column 2: WWT heatmap for this expert\n",
    "        fig.add_trace(\n",
    "          go.Image(\n",
    "              z=plt.cm.coolwarm((1 + WWT[expert_idx].numpy())/2, bytes=True),\n",
    "              colormodel='rgba256',\n",
    "              customdata = WWT[expert_idx].numpy(),\n",
    "              hovertemplate=f'expert {expert_idx}<br>In: %{{x}}<br>Out: %{{y}}<br> weight: %{{customdata:0.2f}}',\n",
    "          ),\n",
    "          row=expert_idx+1, col=2  # Right column for heatmaps\n",
    "      )\n",
    "\n",
    "  for expert_idx in range(cfg.n_experts):\n",
    "      fig.add_vline(\n",
    "          x=(x[cfg.n_hidden-1]+x[cfg.n_hidden])/2, \n",
    "          line=dict(width=0.5),\n",
    "          row=expert_idx+1,\n",
    "          col=1,\n",
    "      )\n",
    "    \n",
    "  fig.update_layout(\n",
    "      showlegend=False, \n",
    "      width=800,  # Fixed width for 2 columns\n",
    "      height=300 * cfg.n_experts,  # Scale height with number of experts\n",
    "      margin=dict(t=50, b=50)  # increased bottom margin from 20 to 50\n",
    "  )\n",
    "  \n",
    "  # Show x-axes for bar graphs (column 1) and hide for heatmaps (column 2)\n",
    "  fig.update_xaxes(visible=True, col=1)\n",
    "  fig.update_xaxes(visible=False, col=2)\n",
    "  \n",
    "  fig.update_yaxes(visible=True, col=1)\n",
    "  fig.update_yaxes(visible=True, title=\"norm\", row=1, col=1)  # Only on first row\n",
    "\n",
    "  # fig.write_html(\"wtw.html\")\n",
    "  \n",
    "  return fig"
   ]
  },
  {
   "cell_type": "code",
   "execution_count": 9,
   "id": "8581e2a5",
   "metadata": {},
   "outputs": [
    {
     "data": {
      "application/vnd.plotly.v1+json": {
       "config": {
        "plotlyServerURL": "https://plot.ly"
       },
       "data": [
        {
         "marker": {
          "cmax": 1,
          "cmin": 0,
          "color": {
           "bdata": "rp6BP6GqMjzMpoA/iOt8PyWBgD8CMIE/hDOCP8a0jD3ySbE/qYCiP8j3iz+R1JE/POiyPzVPgj8KNIQ/FBuKPwDhhz/st4w/62SCP8WEkj8=",
           "dtype": "f4"
          }
         },
         "type": "bar",
         "x": {
          "bdata": "AAECAwQFBgcICQoLDA0ODxAREhM=",
          "dtype": "i1"
         },
         "xaxis": "x",
         "y": {
          "bdata": "J6SAP3UcgD/HnIE/2weCPzUkgT86doA/C5F8P1FjgD+fh707draQPY8YTTy4dho7DwUNPGyjuDymBN88DeK7PGtunjww76M8AU6KPJdYzTs=",
          "dtype": "f4"
         },
         "yaxis": "y"
        },
        {
         "colormodel": "rgba256",
         "customdata": {
          "bdata": "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",
          "dtype": "f4",
          "shape": "20, 20"
         },
         "hovertemplate": "expert 0<br>In: %{x}<br>Out: %{y}<br> weight: %{customdata:0.2f}",
         "type": "image",
         "xaxis": "x2",
         "yaxis": "y2",
         "z": {
          "bdata": "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",
          "dtype": "u1",
          "shape": "20, 20, 4"
         }
        },
        {
         "marker": {
          "cmax": 1,
          "cmin": 0,
          "color": {
           "bdata": "ZAeAP6zIdT+ZyYE/lg+bPcxZfT97fYA/VYiUP6ZxgT8ebnw/b4mYP0pvhj9R+K8/CA+yP10ynj96ULA/VQirP6VZnz8sSLA/+lyzP1rIpT8=",
           "dtype": "f4"
          }
         },
         "type": "bar",
         "x": {
          "bdata": "AAECAwQFBgcICQoLDA0ODxAREhM=",
          "dtype": "i1"
         },
         "xaxis": "x3",
         "y": {
          "bdata": "qsWBP/tjgT+Y/n8/aA6APw9rgD+qNn0/NPaMPRKtdT8UR4Y/ZUToPFQYfD9NJ3Q8k5LeOyPVYj01Zig8NKc8PMh/0DsoQ/I7zY7+PGyl8js=",
          "dtype": "f4"
         },
         "yaxis": "y3"
        },
        {
         "colormodel": "rgba256",
         "customdata": {
          "bdata": "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",
          "dtype": "f4",
          "shape": "20, 20"
         },
         "hovertemplate": "expert 1<br>In: %{x}<br>Out: %{y}<br> weight: %{customdata:0.2f}",
         "type": "image",
         "xaxis": "x4",
         "yaxis": "y4",
         "z": {
          "bdata": "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",
          "dtype": "u1",
          "shape": "20, 20, 4"
         }
        },
        {
         "marker": {
          "cmax": 1,
          "cmin": 0,
          "color": {
           "bdata": "cSN3P9dgcj/Z338/yD2AP9bOej/tmIE/59yAP8GsgD+fuoE/vQGEPwxFtz/MerM/aueyP/NKtj/TErU/8va2P9i4tT9eLLQ/yJq0P7ATtD8=",
           "dtype": "f4"
          }
         },
         "type": "bar",
         "x": {
          "bdata": "AAECAwQFBgcICQoLDA0ODxAREhM=",
          "dtype": "i1"
         },
         "xaxis": "x5",
         "y": {
          "bdata": "pdyAP0GqgD/0voM/O5CBPxy5gT/zNoA/oyB3Pw9ecj+Byno/hVR/P112aj2S3No7HAOAO+OwjDwPFh48LHHQPKlmKzzX1Sk8Gc0uPIQ4Hjw=",
          "dtype": "f4"
         },
         "yaxis": "y5"
        },
        {
         "colormodel": "rgba256",
         "customdata": {
          "bdata": "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",
          "dtype": "f4",
          "shape": "20, 20"
         },
         "hovertemplate": "expert 2<br>In: %{x}<br>Out: %{y}<br> weight: %{customdata:0.2f}",
         "type": "image",
         "xaxis": "x6",
         "yaxis": "y6",
         "z": {
          "bdata": "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",
          "dtype": "u1",
          "shape": "20, 20, 4"
         }
        },
        {
         "marker": {
          "cmax": 1,
          "cmin": 0,
          "color": {
           "bdata": "WXalPFL/fT/BX2g9ZeOAP3n9kD8bkIc/yJx5P8LQrz9Xi5c/temIP+DasD+d5r4/cjK7P+8buj8SBaU/b+mmP2lDuD9otbM/ryC1P900oj8=",
           "dtype": "f4"
          }
         },
         "type": "bar",
         "x": {
          "bdata": "AAECAwQFBgcICQoLDA0ODxAREhM=",
          "dtype": "i1"
         },
         "xaxis": "x7",
         "y": {
          "bdata": "IQGAP5rjgD9/HoA/qft9P85Bhj/piUM9NM6AP6gbKj98kHo/EtFpP6dZFD1pdSk9BPCUPB+p6zzrU+k8Nh4vPFxzrjvpDas8Zyq7PGmDsDw=",
          "dtype": "f4"
         },
         "yaxis": "y7"
        },
        {
         "colormodel": "rgba256",
         "customdata": {
          "bdata": "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",
          "dtype": "f4",
          "shape": "20, 20"
         },
         "hovertemplate": "expert 3<br>In: %{x}<br>Out: %{y}<br> weight: %{customdata:0.2f}",
         "type": "image",
         "xaxis": "x8",
         "yaxis": "y8",
         "z": {
          "bdata": "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",
          "dtype": "u1",
          "shape": "20, 20, 4"
         }
        }
       ],
       "layout": {
        "annotations": [
         {
          "font": {
           "size": 16
          },
          "showarrow": false,
          "text": "expert 0",
          "x": 0.225,
          "xanchor": "center",
          "xref": "paper",
          "y": 1,
          "yanchor": "bottom",
          "yref": "paper"
         },
         {
          "font": {
           "size": 16
          },
          "showarrow": false,
          "text": "expert 1",
          "x": 0.225,
          "xanchor": "center",
          "xref": "paper",
          "y": 0.7250000000000001,
          "yanchor": "bottom",
          "yref": "paper"
         },
         {
          "font": {
           "size": 16
          },
          "showarrow": false,
          "text": "expert 2",
          "x": 0.225,
          "xanchor": "center",
          "xref": "paper",
          "y": 0.45,
          "yanchor": "bottom",
          "yref": "paper"
         },
         {
          "font": {
           "size": 16
          },
          "showarrow": false,
          "text": "expert 3",
          "x": 0.225,
          "xanchor": "center",
          "xref": "paper",
          "y": 0.175,
          "yanchor": "bottom",
          "yref": "paper"
         }
        ],
        "height": 1200,
        "margin": {
         "b": 50,
         "t": 50
        },
        "shapes": [
         {
          "line": {
           "width": 0.5
          },
          "type": "line",
          "x0": 4.5,
          "x1": 4.5,
          "xref": "x",
          "y0": 0,
          "y1": 1,
          "yref": "y domain"
         },
         {
          "line": {
           "width": 0.5
          },
          "type": "line",
          "x0": 4.5,
          "x1": 4.5,
          "xref": "x3",
          "y0": 0,
          "y1": 1,
          "yref": "y3 domain"
         },
         {
          "line": {
           "width": 0.5
          },
          "type": "line",
          "x0": 4.5,
          "x1": 4.5,
          "xref": "x5",
          "y0": 0,
          "y1": 1,
          "yref": "y5 domain"
         },
         {
          "line": {
           "width": 0.5
          },
          "type": "line",
          "x0": 4.5,
          "x1": 4.5,
          "xref": "x7",
          "y0": 0,
          "y1": 1,
          "yref": "y7 domain"
         }
        ],
        "showlegend": false,
        "template": {
         "data": {
          "bar": [
           {
            "error_x": {
             "color": "#2a3f5f"
            },
            "error_y": {
             "color": "#2a3f5f"
            },
            "marker": {
             "line": {
              "color": "#E5ECF6",
              "width": 0.5
             },
             "pattern": {
              "fillmode": "overlay",
              "size": 10,
              "solidity": 0.2
             }
            },
            "type": "bar"
           }
          ],
          "barpolar": [
           {
            "marker": {
             "line": {
              "color": "#E5ECF6",
              "width": 0.5
             },
             "pattern": {
              "fillmode": "overlay",
              "size": 10,
              "solidity": 0.2
             }
            },
            "type": "barpolar"
           }
          ],
          "carpet": [
           {
            "aaxis": {
             "endlinecolor": "#2a3f5f",
             "gridcolor": "white",
             "linecolor": "white",
             "minorgridcolor": "white",
             "startlinecolor": "#2a3f5f"
            },
            "baxis": {
             "endlinecolor": "#2a3f5f",
             "gridcolor": "white",
             "linecolor": "white",
             "minorgridcolor": "white",
             "startlinecolor": "#2a3f5f"
            },
            "type": "carpet"
           }
          ],
          "choropleth": [
           {
            "colorbar": {
             "outlinewidth": 0,
             "ticks": ""
            },
            "type": "choropleth"
           }
          ],
          "contour": [
           {
            "colorbar": {
             "outlinewidth": 0,
             "ticks": ""
            },
            "colorscale": [
             [
              0,
              "#0d0887"
             ],
             [
              0.1111111111111111,
              "#46039f"
             ],
             [
              0.2222222222222222,
              "#7201a8"
             ],
             [
              0.3333333333333333,
              "#9c179e"
             ],
             [
              0.4444444444444444,
              "#bd3786"
             ],
             [
              0.5555555555555556,
              "#d8576b"
             ],
             [
              0.6666666666666666,
              "#ed7953"
             ],
             [
              0.7777777777777778,
              "#fb9f3a"
             ],
             [
              0.8888888888888888,
              "#fdca26"
             ],
             [
              1,
              "#f0f921"
             ]
            ],
            "type": "contour"
           }
          ],
          "contourcarpet": [
           {
            "colorbar": {
             "outlinewidth": 0,
             "ticks": ""
            },
            "type": "contourcarpet"
           }
          ],
          "heatmap": [
           {
            "colorbar": {
             "outlinewidth": 0,
             "ticks": ""
            },
            "colorscale": [
             [
              0,
              "#0d0887"
             ],
             [
              0.1111111111111111,
              "#46039f"
             ],
             [
              0.2222222222222222,
              "#7201a8"
             ],
             [
              0.3333333333333333,
              "#9c179e"
             ],
             [
              0.4444444444444444,
              "#bd3786"
             ],
             [
              0.5555555555555556,
              "#d8576b"
             ],
             [
              0.6666666666666666,
              "#ed7953"
             ],
             [
              0.7777777777777778,
              "#fb9f3a"
             ],
             [
              0.8888888888888888,
              "#fdca26"
             ],
             [
              1,
              "#f0f921"
             ]
            ],
            "type": "heatmap"
           }
          ],
          "histogram": [
           {
            "marker": {
             "pattern": {
              "fillmode": "overlay",
              "size": 10,
              "solidity": 0.2
             }
            },
            "type": "histogram"
           }
          ],
          "histogram2d": [
           {
            "colorbar": {
             "outlinewidth": 0,
             "ticks": ""
            },
            "colorscale": [
             [
              0,
              "#0d0887"
             ],
             [
              0.1111111111111111,
              "#46039f"
             ],
             [
              0.2222222222222222,
              "#7201a8"
             ],
             [
              0.3333333333333333,
              "#9c179e"
             ],
             [
              0.4444444444444444,
              "#bd3786"
             ],
             [
              0.5555555555555556,
              "#d8576b"
             ],
             [
              0.6666666666666666,
              "#ed7953"
             ],
             [
              0.7777777777777778,
              "#fb9f3a"
             ],
             [
              0.8888888888888888,
              "#fdca26"
             ],
             [
              1,
              "#f0f921"
             ]
            ],
            "type": "histogram2d"
           }
          ],
          "histogram2dcontour": [
           {
            "colorbar": {
             "outlinewidth": 0,
             "ticks": ""
            },
            "colorscale": [
             [
              0,
              "#0d0887"
             ],
             [
              0.1111111111111111,
              "#46039f"
             ],
             [
              0.2222222222222222,
              "#7201a8"
             ],
             [
              0.3333333333333333,
              "#9c179e"
             ],
             [
              0.4444444444444444,
              "#bd3786"
             ],
             [
              0.5555555555555556,
              "#d8576b"
             ],
             [
              0.6666666666666666,
              "#ed7953"
             ],
             [
              0.7777777777777778,
              "#fb9f3a"
             ],
             [
              0.8888888888888888,
              "#fdca26"
             ],
             [
              1,
              "#f0f921"
             ]
            ],
            "type": "histogram2dcontour"
           }
          ],
          "mesh3d": [
           {
            "colorbar": {
             "outlinewidth": 0,
             "ticks": ""
            },
            "type": "mesh3d"
           }
          ],
          "parcoords": [
           {
            "line": {
             "colorbar": {
              "outlinewidth": 0,
              "ticks": ""
             }
            },
            "type": "parcoords"
           }
          ],
          "pie": [
           {
            "automargin": true,
            "type": "pie"
           }
          ],
          "scatter": [
           {
            "fillpattern": {
             "fillmode": "overlay",
             "size": 10,
             "solidity": 0.2
            },
            "type": "scatter"
           }
          ],
          "scatter3d": [
           {
            "line": {
             "colorbar": {
              "outlinewidth": 0,
              "ticks": ""
             }
            },
            "marker": {
             "colorbar": {
              "outlinewidth": 0,
              "ticks": ""
             }
            },
            "type": "scatter3d"
           }
          ],
          "scattercarpet": [
           {
            "marker": {
             "colorbar": {
              "outlinewidth": 0,
              "ticks": ""
             }
            },
            "type": "scattercarpet"
           }
          ],
          "scattergeo": [
           {
            "marker": {
             "colorbar": {
              "outlinewidth": 0,
              "ticks": ""
             }
            },
            "type": "scattergeo"
           }
          ],
          "scattergl": [
           {
            "marker": {
             "colorbar": {
              "outlinewidth": 0,
              "ticks": ""
             }
            },
            "type": "scattergl"
           }
          ],
          "scattermap": [
           {
            "marker": {
             "colorbar": {
              "outlinewidth": 0,
              "ticks": ""
             }
            },
            "type": "scattermap"
           }
          ],
          "scattermapbox": [
           {
            "marker": {
             "colorbar": {
              "outlinewidth": 0,
              "ticks": ""
             }
            },
            "type": "scattermapbox"
           }
          ],
          "scatterpolar": [
           {
            "marker": {
             "colorbar": {
              "outlinewidth": 0,
              "ticks": ""
             }
            },
            "type": "scatterpolar"
           }
          ],
          "scatterpolargl": [
           {
            "marker": {
             "colorbar": {
              "outlinewidth": 0,
              "ticks": ""
             }
            },
            "type": "scatterpolargl"
           }
          ],
          "scatterternary": [
           {
            "marker": {
             "colorbar": {
              "outlinewidth": 0,
              "ticks": ""
             }
            },
            "type": "scatterternary"
           }
          ],
          "surface": [
           {
            "colorbar": {
             "outlinewidth": 0,
             "ticks": ""
            },
            "colorscale": [
             [
              0,
              "#0d0887"
             ],
             [
              0.1111111111111111,
              "#46039f"
             ],
             [
              0.2222222222222222,
              "#7201a8"
             ],
             [
              0.3333333333333333,
              "#9c179e"
             ],
             [
              0.4444444444444444,
              "#bd3786"
             ],
             [
              0.5555555555555556,
              "#d8576b"
             ],
             [
              0.6666666666666666,
              "#ed7953"
             ],
             [
              0.7777777777777778,
              "#fb9f3a"
             ],
             [
              0.8888888888888888,
              "#fdca26"
             ],
             [
              1,
              "#f0f921"
             ]
            ],
            "type": "surface"
           }
          ],
          "table": [
           {
            "cells": {
             "fill": {
              "color": "#EBF0F8"
             },
             "line": {
              "color": "white"
             }
            },
            "header": {
             "fill": {
              "color": "#C8D4E3"
             },
             "line": {
              "color": "white"
             }
            },
            "type": "table"
           }
          ]
         },
         "layout": {
          "annotationdefaults": {
           "arrowcolor": "#2a3f5f",
           "arrowhead": 0,
           "arrowwidth": 1
          },
          "autotypenumbers": "strict",
          "coloraxis": {
           "colorbar": {
            "outlinewidth": 0,
            "ticks": ""
           }
          },
          "colorscale": {
           "diverging": [
            [
             0,
             "#8e0152"
            ],
            [
             0.1,
             "#c51b7d"
            ],
            [
             0.2,
             "#de77ae"
            ],
            [
             0.3,
             "#f1b6da"
            ],
            [
             0.4,
             "#fde0ef"
            ],
            [
             0.5,
             "#f7f7f7"
            ],
            [
             0.6,
             "#e6f5d0"
            ],
            [
             0.7,
             "#b8e186"
            ],
            [
             0.8,
             "#7fbc41"
            ],
            [
             0.9,
             "#4d9221"
            ],
            [
             1,
             "#276419"
            ]
           ],
           "sequential": [
            [
             0,
             "#0d0887"
            ],
            [
             0.1111111111111111,
             "#46039f"
            ],
            [
             0.2222222222222222,
             "#7201a8"
            ],
            [
             0.3333333333333333,
             "#9c179e"
            ],
            [
             0.4444444444444444,
             "#bd3786"
            ],
            [
             0.5555555555555556,
             "#d8576b"
            ],
            [
             0.6666666666666666,
             "#ed7953"
            ],
            [
             0.7777777777777778,
             "#fb9f3a"
            ],
            [
             0.8888888888888888,
             "#fdca26"
            ],
            [
             1,
             "#f0f921"
            ]
           ],
           "sequentialminus": [
            [
             0,
             "#0d0887"
            ],
            [
             0.1111111111111111,
             "#46039f"
            ],
            [
             0.2222222222222222,
             "#7201a8"
            ],
            [
             0.3333333333333333,
             "#9c179e"
            ],
            [
             0.4444444444444444,
             "#bd3786"
            ],
            [
             0.5555555555555556,
             "#d8576b"
            ],
            [
             0.6666666666666666,
             "#ed7953"
            ],
            [
             0.7777777777777778,
             "#fb9f3a"
            ],
            [
             0.8888888888888888,
             "#fdca26"
            ],
            [
             1,
             "#f0f921"
            ]
           ]
          },
          "colorway": [
           "#636efa",
           "#EF553B",
           "#00cc96",
           "#ab63fa",
           "#FFA15A",
           "#19d3f3",
           "#FF6692",
           "#B6E880",
           "#FF97FF",
           "#FECB52"
          ],
          "font": {
           "color": "#2a3f5f"
          },
          "geo": {
           "bgcolor": "white",
           "lakecolor": "white",
           "landcolor": "#E5ECF6",
           "showlakes": true,
           "showland": true,
           "subunitcolor": "white"
          },
          "hoverlabel": {
           "align": "left"
          },
          "hovermode": "closest",
          "mapbox": {
           "style": "light"
          },
          "paper_bgcolor": "white",
          "plot_bgcolor": "#E5ECF6",
          "polar": {
           "angularaxis": {
            "gridcolor": "white",
            "linecolor": "white",
            "ticks": ""
           },
           "bgcolor": "#E5ECF6",
           "radialaxis": {
            "gridcolor": "white",
            "linecolor": "white",
            "ticks": ""
           }
          },
          "scene": {
           "xaxis": {
            "backgroundcolor": "#E5ECF6",
            "gridcolor": "white",
            "gridwidth": 2,
            "linecolor": "white",
            "showbackground": true,
            "ticks": "",
            "zerolinecolor": "white"
           },
           "yaxis": {
            "backgroundcolor": "#E5ECF6",
            "gridcolor": "white",
            "gridwidth": 2,
            "linecolor": "white",
            "showbackground": true,
            "ticks": "",
            "zerolinecolor": "white"
           },
           "zaxis": {
            "backgroundcolor": "#E5ECF6",
            "gridcolor": "white",
            "gridwidth": 2,
            "linecolor": "white",
            "showbackground": true,
            "ticks": "",
            "zerolinecolor": "white"
           }
          },
          "shapedefaults": {
           "line": {
            "color": "#2a3f5f"
           }
          },
          "ternary": {
           "aaxis": {
            "gridcolor": "white",
            "linecolor": "white",
            "ticks": ""
           },
           "baxis": {
            "gridcolor": "white",
            "linecolor": "white",
            "ticks": ""
           },
           "bgcolor": "#E5ECF6",
           "caxis": {
            "gridcolor": "white",
            "linecolor": "white",
            "ticks": ""
           }
          },
          "title": {
           "x": 0.05
          },
          "xaxis": {
           "automargin": true,
           "gridcolor": "white",
           "linecolor": "white",
           "ticks": "",
           "title": {
            "standoff": 15
           },
           "zerolinecolor": "white",
           "zerolinewidth": 2
          },
          "yaxis": {
           "automargin": true,
           "gridcolor": "white",
           "linecolor": "white",
           "ticks": "",
           "title": {
            "standoff": 15
           },
           "zerolinecolor": "white",
           "zerolinewidth": 2
          }
         }
        },
        "width": 800,
        "xaxis": {
         "anchor": "y",
         "domain": [
          0,
          0.45
         ],
         "visible": true
        },
        "xaxis2": {
         "anchor": "y2",
         "domain": [
          0.55,
          1
         ],
         "visible": false
        },
        "xaxis3": {
         "anchor": "y3",
         "domain": [
          0,
          0.45
         ],
         "visible": true
        },
        "xaxis4": {
         "anchor": "y4",
         "domain": [
          0.55,
          1
         ],
         "visible": false
        },
        "xaxis5": {
         "anchor": "y5",
         "domain": [
          0,
          0.45
         ],
         "visible": true
        },
        "xaxis6": {
         "anchor": "y6",
         "domain": [
          0.55,
          1
         ],
         "visible": false
        },
        "xaxis7": {
         "anchor": "y7",
         "domain": [
          0,
          0.45
         ],
         "visible": true
        },
        "xaxis8": {
         "anchor": "y8",
         "domain": [
          0.55,
          1
         ],
         "visible": false
        },
        "yaxis": {
         "anchor": "x",
         "domain": [
          0.825,
          1
         ],
         "title": {
          "text": "norm"
         },
         "visible": true
        },
        "yaxis2": {
         "anchor": "x2",
         "domain": [
          0.825,
          1
         ]
        },
        "yaxis3": {
         "anchor": "x3",
         "domain": [
          0.55,
          0.7250000000000001
         ],
         "visible": true
        },
        "yaxis4": {
         "anchor": "x4",
         "domain": [
          0.55,
          0.7250000000000001
         ]
        },
        "yaxis5": {
         "anchor": "x5",
         "domain": [
          0.275,
          0.45
         ],
         "visible": true
        },
        "yaxis6": {
         "anchor": "x6",
         "domain": [
          0.275,
          0.45
         ]
        },
        "yaxis7": {
         "anchor": "x7",
         "domain": [
          0,
          0.175
         ],
         "visible": true
        },
        "yaxis8": {
         "anchor": "x8",
         "domain": [
          0,
          0.175
         ]
        }
       }
      }
     },
     "metadata": {},
     "output_type": "display_data"
    }
   ],
   "source": [
    "render_features(model)"
   ]
  },
  {
   "cell_type": "code",
   "execution_count": 16,
   "id": "28031da5",
   "metadata": {},
   "outputs": [],
   "source": [
    "def expert_feat_dimensionality(model):\n",
    "    \"\"\"fraction of a dimension within an expert that is occupied by a feature.\"\"\"\n",
    "    n_experts = model.config.n_experts\n",
    "    n_features = model.config.n_features\n",
    "    \n",
    "    # Initialize tensor to store results for all experts\n",
    "    all_dimensionalities = torch.zeros(n_experts, n_features)\n",
    "    \n",
    "    for expert_idx in range(n_experts):\n",
    "        W_expert = model.W_experts[expert_idx]  # shape: [n_features, n_hidden]\n",
    "        W_norm_squared = torch.sum(W_expert**2, dim=1)  # shape: [n_features], ||W_i||^2\n",
    "        W_hat = W_expert / torch.sqrt(W_norm_squared).unsqueeze(1) # W_hat_i = W_i / ||W_i||\n",
    "        dot_products = torch.mm(W_hat, W_expert.T) # W_hat_i · W_j\n",
    "        squared = dot_products**2\n",
    "        interference = torch.sum(squared, dim=1) # sum of squared dot products for each feature\n",
    "        dimensionality = W_norm_squared / interference # D_i^(e) = ||W_i^(e)||^2 / sum_j(W_hat_i · W_j)^2\n",
    "        all_dimensionalities[expert_idx] = dimensionality\n",
    "    \n",
    "    return torch.round(all_dimensionalities, decimals=3)"
   ]
  },
  {
   "cell_type": "code",
   "execution_count": 17,
   "id": "69e3c9a4",
   "metadata": {},
   "outputs": [
    {
     "data": {
      "text/plain": [
       "tensor([[0.4960, 1.0000, 0.5040, 0.5140, 0.5020, 0.4970, 0.4850, 0.9950, 0.0000,\n",
       "         0.0030, 0.0000, 0.0000, 0.0000, 0.0000, 0.0010, 0.0000, 0.0000, 0.0000,\n",
       "         0.0000, 0.0000],\n",
       "        [0.5070, 0.5260, 0.4930, 0.9940, 0.5070, 0.4930, 0.0040, 0.4740, 0.5310,\n",
       "         0.0010, 0.4680, 0.0000, 0.0000, 0.0020, 0.0000, 0.0000, 0.0000, 0.0000,\n",
       "         0.0000, 0.0000],\n",
       "        [0.5210, 0.5300, 0.5150, 0.5050, 0.5170, 0.4950, 0.4790, 0.4700, 0.4830,\n",
       "         0.4830, 0.0020, 0.0000, 0.0000, 0.0000, 0.0000, 0.0000, 0.0000, 0.0000,\n",
       "         0.0000, 0.0000],\n",
       "        [1.0000, 0.5070, 0.9970, 0.4930, 0.4620, 0.0020, 0.5160, 0.1900, 0.4060,\n",
       "         0.4220, 0.0010, 0.0010, 0.0000, 0.0000, 0.0000, 0.0000, 0.0000, 0.0000,\n",
       "         0.0000, 0.0000]], grad_fn=<RoundBackward1>)"
      ]
     },
     "execution_count": 17,
     "metadata": {},
     "output_type": "execute_result"
    }
   ],
   "source": [
    "expert_feat_dimensionality(model)"
   ]
  },
  {
   "cell_type": "markdown",
   "id": "16f586b5",
   "metadata": {},
   "source": [
    "global feature Dimensionality for feature $i$ is given by:\n",
    "\n",
    "$$\n",
    "D_i^{\\text{global}} \\;=\\; \\sum_{e} \\alpha_i^{(e)} \\cdot D_i^{(e)}\n",
    "$$\n",
    "\n",
    "where:\n",
    "\n",
    "- $D_i^{(e)}$ = dimensionality of feature $i$ in expert $e$  \n",
    "- $\\alpha_i^{(e)}$ = activation rate of expert $e$ **given** that feature $i$ is present:\n",
    "$$\n",
    "\\alpha_i^{(e)} \\;=\\; \\frac{\\text{\\# times expert $e$ active when feature $i$ present}}{\\text{\\# times feature $i$ present}}\n",
    "$$\n",
    "\n",
    "measures how much each expert contributes to representing feature $i$, weighted by the feature-specific routing frequency.\n"
   ]
  },
  {
   "cell_type": "code",
   "execution_count": 18,
   "id": "12de10e7",
   "metadata": {},
   "outputs": [],
   "source": [
    "def global_feat_dim(model, input_features=None, n_batch=1024):\n",
    "    \"\"\"\n",
    "    compute global feature dimensionality for MoE model.\n",
    "    \n",
    "    D_i^global = Σ_e alpha_i^(e) · D_i^(e)\n",
    "    \n",
    "    where:\n",
    "    - D_i^(e) is dimensionality of feature i in expert e\n",
    "    - alpha_i^(e) is feature-specific activation rate of expert e for feature i\n",
    "    \"\"\"\n",
    "    if input_features is None:\n",
    "        input_features = model.generate_batch(n_batch)\n",
    "    \n",
    "    # expert dimensionalities D_i^(e) for all features and experts\n",
    "    expert_dims = expert_feat_dimensionality(model) # [n_experts, n_features]\n",
    "    \n",
    "    # expert activation patterns\n",
    "    expert_weights, top_k_indices, _ = model.compute_active_experts(input_features)\n",
    "    # expert_weights: [n_batch, n_experts]\n",
    "    # top_k_indices: [n_batch, n_active_experts]\n",
    "    \n",
    "    # binary activation mask for all experts\n",
    "    # active_mask[b, e] = 1 if expert e is active for batch b, 0 otherwise\n",
    "    active_mask = torch.zeros_like(expert_weights)  # [n_batch, n_experts]\n",
    "    active_mask = active_mask.scatter(-1, top_k_indices, 1.0)\n",
    "    \n",
    "    # feature-specific activation rates α_i^(e)\n",
    "    # for each feature i, we need the activation rate of expert e \n",
    "    # only when feature i is present (non-zero)\n",
    "    \n",
    "    # which batch examples have each feature present\n",
    "    feature_present = (input_features > 0).float()  # [n_batch, n_features]\n",
    "    \n",
    "    # Count how many times each feature appears\n",
    "    feature_counts = torch.sum(feature_present, dim=0)  # [n_features]\n",
    "    \n",
    "    # for each feature i and expert e, count how often expert e is active when feature i is present\n",
    "    # feature_present: [n_batch, n_features]\n",
    "    # active_mask: [n_batch, n_experts]\n",
    "    \n",
    "    # [n_batch, n_features, 1] * [n_batch, 1, n_experts]\n",
    "    feature_expert_cooccurrence = torch.einsum('bf,be->fe', feature_present, active_mask)\n",
    "    \n",
    "    # activation rates α_i^(e) = cooccurrence / feature_counts\n",
    "    # handle division by zero for features that never appear\n",
    "    alpha = torch.where(\n",
    "        feature_counts.unsqueeze(-1) > 0,\n",
    "        feature_expert_cooccurrence / feature_counts.unsqueeze(-1),\n",
    "        torch.zeros_like(feature_expert_cooccurrence)\n",
    "    )  # [n_features, n_experts]\n",
    "    \n",
    "    # global dimensionality D_i^global = Σ_e α_i^(e) · D_i^(e)\n",
    "    # alpha: [n_features, n_experts]\n",
    "    # expert_dims: [n_experts, n_features] -> transpose to [n_features, n_experts]\n",
    "    global_dims = torch.sum(alpha * expert_dims.T, dim=-1)  # [n_features]\n",
    "    \n",
    "    return torch.round(global_dims, decimals=3)"
   ]
  },
  {
   "cell_type": "code",
   "execution_count": null,
   "id": "ea6d42ba",
   "metadata": {},
   "outputs": [],
   "source": [
    "global_feat_dim(model, n_batch=1024)"
   ]
  },
  {
   "cell_type": "code",
   "execution_count": 149,
   "id": "59a4ec93",
   "metadata": {},
   "outputs": [
    {
     "data": {
      "text/plain": [
       "[1.0,\n",
       " 0.95,\n",
       " 0.91,\n",
       " 0.86,\n",
       " 0.81,\n",
       " 0.76,\n",
       " 0.72,\n",
       " 0.67,\n",
       " 0.62,\n",
       " 0.57,\n",
       " 0.53,\n",
       " 0.48,\n",
       " 0.43,\n",
       " 0.38,\n",
       " 0.34,\n",
       " 0.29,\n",
       " 0.24,\n",
       " 0.19,\n",
       " 0.15,\n",
       " 0.1]"
      ]
     },
     "execution_count": 149,
     "metadata": {},
     "output_type": "execute_result"
    }
   ],
   "source": [
    "density_vals = [round(1.0 - i * (0.9 / 19), 2) for i in range(20)]\n",
    "density_vals"
   ]
  },
  {
   "cell_type": "code",
   "execution_count": 40,
   "id": "b8ae2af3",
   "metadata": {},
   "outputs": [],
   "source": [
    "def feat_per_dim_exp(model):\n",
    "    \"\"\"\n",
    "    compute per-expert dimensionality using Frobenius norm.\n",
    "    \"\"\"\n",
    "    # W_experts: [n_experts, n_features, n_hidden]\n",
    "    W = model.W_experts\n",
    "    m = model.config.n_hidden\n",
    "    \n",
    "    # compute Frobenius norm for each expert: ||W^{(e)}||_F^2\n",
    "    # frobenius norm squared for each expert weight matrix\n",
    "    fro_norm_squared = torch.norm(W, p='fro', dim=(1, 2))**2  # [n_experts]\n",
    "    feat_per_dim_per_expert = fro_norm_squared / m  # [n_experts]\n",
    "    return feat_per_dim_per_expert"
   ]
  },
  {
   "cell_type": "code",
   "execution_count": 41,
   "id": "e18dd9b8",
   "metadata": {},
   "outputs": [],
   "source": [
    "def weighted_avg_features_per_dim(model, n_samples=1024):\n",
    "    \"\"\"\n",
    "    compute weighted average features per dimension using expert usage probabilities.\n",
    "    \n",
    "    features per dimension_global = sum(p_e * ||W^e||_F^2 / n) for e=1 to E\n",
    "    \n",
    "    where p_e is the probability/frequency that expert e is used (derived from gating mechanism).\n",
    "    \"\"\"\n",
    "    # generate batch to compute expert usage probabilities\n",
    "    batch = model.generate_batch(n_samples)\n",
    "\n",
    "    k = model.config.n_active_experts\n",
    "    \n",
    "    # compute active experts and their weights\n",
    "    expert_weights, top_k_indices, _ = model.compute_active_experts(batch)\n",
    "    \n",
    "    # compute p_e: probability/frequency that expert e is used\n",
    "    # sum over all samples and normalize\n",
    "    expert_usage = torch.sum(expert_weights, dim=0) / n_samples  # [n_experts]\n",
    "    \n",
    "    # compute ||W^e||_F^2 / n for each expert using the existing function\n",
    "    feat_per_dim_per_expert = feat_per_dim_exp(model)  # [n_experts]\n",
    "    \n",
    "    # weighted average: sum(p_e * ||W^e||_F^2 / n)\n",
    "    weighted_features_per_dim = torch.sum(expert_usage * feat_per_dim_per_expert) / k\n",
    "    \n",
    "    return weighted_features_per_dim, expert_usage, feat_per_dim_per_expert"
   ]
  },
  {
   "cell_type": "code",
   "execution_count": null,
   "id": "2b7537ef",
   "metadata": {},
   "outputs": [
    {
     "data": {
      "text/plain": [
       "tensor([0.0922, 0.0993, 0.0990, 0.0860, 0.0997], grad_fn=<DivBackward0>)"
      ]
     },
     "execution_count": 42,
     "metadata": {},
     "output_type": "execute_result"
    }
   ],
   "source": [
    "config = Config(\n",
    "    n_features = 100,\n",
    "    n_hidden = 5,\n",
    "    n_experts = 4,\n",
    "    n_active_experts = 1,\n",
    "    load_balancing_loss = False,\n",
    ")\n",
    "\n",
    "\n",
    "model = MoEModel(\n",
    "    config=config,\n",
    "    device=DEVICE,\n",
    "    importance = 0.7**torch.arange(config.n_features), # torch.ones(config.n_features),\n",
    "    feature_probability = torch.tensor(0.1)\n",
    ")"
   ]
  },
  {
   "cell_type": "code",
   "execution_count": 54,
   "id": "fbcce957",
   "metadata": {},
   "outputs": [
    {
     "name": "stdout",
     "output_type": "stream",
     "text": [
      "tensor(0.0843, grad_fn=<SumBackward0>)\n",
      "tensor([0.1846, 0.2246, 0.1660, 0.4248], grad_fn=<DivBackward0>)\n",
      "tensor([0.0902, 0.0709, 0.0793, 0.0907], grad_fn=<DivBackward0>)\n"
     ]
    }
   ],
   "source": [
    "feat_per_dim_global, expert_usage, feat_per_dim_per_expert = weighted_avg_features_per_dim(model)\n",
    "print(feat_per_dim_global)\n",
    "print(expert_usage)\n",
    "print(feat_per_dim_per_expert)"
   ]
  },
  {
   "cell_type": "code",
   "execution_count": 55,
   "id": "44e8788a",
   "metadata": {},
   "outputs": [],
   "source": [
    "# global_dims = global_feat_dim(model)\n",
    "# print(global_dims)\n",
    "# total_dims = torch.sum(global_dims)\n",
    "# total_dims"
   ]
  },
  {
   "cell_type": "code",
   "execution_count": null,
   "id": "2a0fc720",
   "metadata": {},
   "outputs": [],
   "source": [
    "exp_dims = expert_feat_dimensionality(model)\n",
    "# print(exp_dims)\n",
    "\n",
    "# sum across features for each expert (sum along dimension 1)\n",
    "expert_total_dims = torch.sum(exp_dims, dim=1)\n",
    "print(\"total dimensions per expert:\")\n",
    "print(expert_total_dims)\n",
    "# sum across all experts to get total dimensions\n",
    "total_dims_across_experts = torch.sum(expert_total_dims)\n",
    "print(\"total dimensions across all experts:\")\n",
    "print(total_dims_across_experts)"
   ]
  },
  {
   "cell_type": "code",
   "execution_count": null,
   "id": "cc7108f3",
   "metadata": {},
   "outputs": [],
   "source": [
    "feat_per_dim_global, expert_usage, feat_per_dim_per_expert = weighted_avg_features_per_dim(model)\n",
    "print(feat_per_dim_global)\n",
    "print(expert_usage)\n",
    "print(feat_per_dim_per_expert)"
   ]
  },
  {
   "cell_type": "code",
   "execution_count": null,
   "id": "e238b556",
   "metadata": {},
   "outputs": [],
   "source": [
    "exp_dims = expert_feat_dimensionality(model)\n",
    "# sum across features for each expert\n",
    "expert_total_dims = torch.sum(exp_dims, dim=1)\n",
    "print(\"total dimensions per expert:\")\n",
    "print(expert_total_dims)"
   ]
  },
  {
   "cell_type": "code",
   "execution_count": 26,
   "id": "eb6482ce",
   "metadata": {},
   "outputs": [],
   "source": [
    "def extract_individual_models(stacked_params, configs, feature_probs, importances, device):\n",
    "    \"\"\"extract individual model instances from stacked parameters\"\"\"\n",
    "    num_models = stacked_params['W_experts'].shape[0]\n",
    "    individual_models = []\n",
    "    \n",
    "    for i in range(num_models):\n",
    "        # Create a proper MoEModel instance\n",
    "        model = MoEModel(configs[i], feature_probs[i], importances[i], device=device)\n",
    "        \n",
    "        # Load the stacked parameters into this model\n",
    "        model.W_experts.data = stacked_params['W_experts'][i]\n",
    "        model.b_final.data = stacked_params['b_final'][i]  \n",
    "        model.gate.data = stacked_params['gate'][i]\n",
    "        \n",
    "        individual_models.append(model)\n",
    "    \n",
    "    return individual_models"
   ]
  },
  {
   "cell_type": "code",
   "execution_count": 3,
   "id": "b369a2f6",
   "metadata": {},
   "outputs": [],
   "source": [
    "def plot_feats_per_dim(stacked_params, configs, feature_probs, importances, device):\n",
    "    \"\"\"calculate weighted average features per dimension and create plot\"\"\"\n",
    "    \n",
    "    individual_models = extract_individual_models(stacked_params, configs, feature_probs, importances, device)\n",
    "    # calculate weighted average features per dimension\n",
    "    weighted_feats_per_dim = []\n",
    "    for model in individual_models:\n",
    "        weighted_feat_per_dim, _, _ = weighted_avg_features_per_dim(model)\n",
    "        weighted_feats_per_dim.append(weighted_feat_per_dim.item())\n",
    "    \n",
    "    # transform to x-axis values (feature_probs = 1-s, so 1/(1-s) = 1/feature_probs)\n",
    "    x_values = []\n",
    "    for s in feature_probs:\n",
    "        s_val = s.item()\n",
    "        if s_val <= 0:\n",
    "            # if s <= 0, use a very large value instead of infinity\n",
    "            x_values.append(1000)  \n",
    "        else:\n",
    "            x_values.append(1 / s_val)\n",
    "    \n",
    "    # create plot\n",
    "    fig = go.Figure()\n",
    "    \n",
    "    fig.add_trace(go.Scatter(\n",
    "        x=x_values,\n",
    "        y=weighted_feats_per_dim,\n",
    "        mode='markers+lines',\n",
    "        name='Weighted Features per Dimension',\n",
    "        line=dict(width=3, color='black'),\n",
    "        marker=dict(size=8, color='black')\n",
    "    ))\n",
    "    \n",
    "    # update layout\n",
    "    fig.update_layout(\n",
    "        title=\"Number of features per dimension\",\n",
    "        xaxis=dict(\n",
    "            title=\"1/(1-S) (log scale)\",\n",
    "            type=\"log\",\n",
    "        ),\n",
    "        yaxis=dict(\n",
    "            title=\"Number of features per dimension\",\n",
    "            range=[0, max(weighted_feats_per_dim) * 1.1],\n",
    "        ),\n",
    "        showlegend=False,\n",
    "        width=800,\n",
    "        height=600\n",
    "    )\n",
    "    \n",
    "    # add reference lines\n",
    "    fig.add_hline(y=1, line_dash=\"dot\", line_color=\"orange\", opacity=0.7)\n",
    "    # fig.add_hline(y=0.5, line_dash=\"dot\", line_color=\"orange\", opacity=0.7)\n",
    "    \n",
    "    return fig\n"
   ]
  },
  {
   "cell_type": "code",
   "execution_count": null,
   "id": "38fc7612",
   "metadata": {},
   "outputs": [],
   "source": [
    "density_vals = [round(1.0 - i * (0.9 / 19), 2) for i in range(20)]\n",
    "\n",
    "configs_dense = [\n",
    "    Config(n_features=100, n_hidden=20, n_experts=1, n_active_experts=1, load_balancing_loss=False)\n",
    "    for _ in density_vals\n",
    "    ]\n",
    "\n",
    "feature_probs = [torch.tensor(density) for density in density_vals]\n",
    "importances = [torch.ones(config.n_features) for config in configs_dense]\n",
    "\n",
    "loss_dense, stacked_params_dense = optimize_vectorized(configs_dense, feature_probs, importances, n_batch=1024, steps=10000, device=DEVICE, print_freq=1000)"
   ]
  },
  {
   "cell_type": "code",
   "execution_count": 96,
   "id": "a083b5e4",
   "metadata": {},
   "outputs": [
    {
     "data": {
      "application/vnd.plotly.v1+json": {
       "config": {
        "plotlyServerURL": "https://plot.ly"
       },
       "data": [
        {
         "line": {
          "color": "black",
          "width": 3
         },
         "marker": {
          "color": "black",
          "size": 8
         },
         "mode": "markers+lines",
         "name": "Weighted Features per Dimension",
         "type": "scatter",
         "x": [
          1,
          1.0526315921561542,
          1.098901067230959,
          1.1627906783327278,
          1.2345678976006922,
          1.3157894901951928,
          1.3888888336994052,
          1.492537276254622,
          1.612903213401739,
          1.7543859869269236,
          1.8867925546822037,
          2.083333379899463,
          2.3255813566654555,
          2.6315789803903855,
          2.941176439651569,
          3.4482759612919205,
          4.166666759798926,
          5.263157960780771,
          6.666666401757145,
          9.99999985098839
         ],
         "y": [
          0.9994279742240906,
          1.0046653747558594,
          1.0128390789031982,
          1.0334839820861816,
          1.0586336851119995,
          1.0868505239486694,
          1.1231505870819092,
          1.175705909729004,
          1.2671204805374146,
          1.6177804470062256,
          1.715004324913025,
          1.8687824010849,
          1.9336475133895874,
          1.9658390283584595,
          1.979673981666565,
          2.0408825874328613,
          2.44109845161438,
          2.9677634239196777,
          3.4835758209228516,
          4.608630180358887
         ]
        }
       ],
       "layout": {
        "height": 600,
        "shapes": [
         {
          "line": {
           "color": "orange",
           "dash": "dot"
          },
          "opacity": 0.7,
          "type": "line",
          "x0": 0,
          "x1": 1,
          "xref": "x domain",
          "y0": 1,
          "y1": 1,
          "yref": "y"
         }
        ],
        "showlegend": false,
        "template": {
         "data": {
          "bar": [
           {
            "error_x": {
             "color": "#2a3f5f"
            },
            "error_y": {
             "color": "#2a3f5f"
            },
            "marker": {
             "line": {
              "color": "#E5ECF6",
              "width": 0.5
             },
             "pattern": {
              "fillmode": "overlay",
              "size": 10,
              "solidity": 0.2
             }
            },
            "type": "bar"
           }
          ],
          "barpolar": [
           {
            "marker": {
             "line": {
              "color": "#E5ECF6",
              "width": 0.5
             },
             "pattern": {
              "fillmode": "overlay",
              "size": 10,
              "solidity": 0.2
             }
            },
            "type": "barpolar"
           }
          ],
          "carpet": [
           {
            "aaxis": {
             "endlinecolor": "#2a3f5f",
             "gridcolor": "white",
             "linecolor": "white",
             "minorgridcolor": "white",
             "startlinecolor": "#2a3f5f"
            },
            "baxis": {
             "endlinecolor": "#2a3f5f",
             "gridcolor": "white",
             "linecolor": "white",
             "minorgridcolor": "white",
             "startlinecolor": "#2a3f5f"
            },
            "type": "carpet"
           }
          ],
          "choropleth": [
           {
            "colorbar": {
             "outlinewidth": 0,
             "ticks": ""
            },
            "type": "choropleth"
           }
          ],
          "contour": [
           {
            "colorbar": {
             "outlinewidth": 0,
             "ticks": ""
            },
            "colorscale": [
             [
              0,
              "#0d0887"
             ],
             [
              0.1111111111111111,
              "#46039f"
             ],
             [
              0.2222222222222222,
              "#7201a8"
             ],
             [
              0.3333333333333333,
              "#9c179e"
             ],
             [
              0.4444444444444444,
              "#bd3786"
             ],
             [
              0.5555555555555556,
              "#d8576b"
             ],
             [
              0.6666666666666666,
              "#ed7953"
             ],
             [
              0.7777777777777778,
              "#fb9f3a"
             ],
             [
              0.8888888888888888,
              "#fdca26"
             ],
             [
              1,
              "#f0f921"
             ]
            ],
            "type": "contour"
           }
          ],
          "contourcarpet": [
           {
            "colorbar": {
             "outlinewidth": 0,
             "ticks": ""
            },
            "type": "contourcarpet"
           }
          ],
          "heatmap": [
           {
            "colorbar": {
             "outlinewidth": 0,
             "ticks": ""
            },
            "colorscale": [
             [
              0,
              "#0d0887"
             ],
             [
              0.1111111111111111,
              "#46039f"
             ],
             [
              0.2222222222222222,
              "#7201a8"
             ],
             [
              0.3333333333333333,
              "#9c179e"
             ],
             [
              0.4444444444444444,
              "#bd3786"
             ],
             [
              0.5555555555555556,
              "#d8576b"
             ],
             [
              0.6666666666666666,
              "#ed7953"
             ],
             [
              0.7777777777777778,
              "#fb9f3a"
             ],
             [
              0.8888888888888888,
              "#fdca26"
             ],
             [
              1,
              "#f0f921"
             ]
            ],
            "type": "heatmap"
           }
          ],
          "histogram": [
           {
            "marker": {
             "pattern": {
              "fillmode": "overlay",
              "size": 10,
              "solidity": 0.2
             }
            },
            "type": "histogram"
           }
          ],
          "histogram2d": [
           {
            "colorbar": {
             "outlinewidth": 0,
             "ticks": ""
            },
            "colorscale": [
             [
              0,
              "#0d0887"
             ],
             [
              0.1111111111111111,
              "#46039f"
             ],
             [
              0.2222222222222222,
              "#7201a8"
             ],
             [
              0.3333333333333333,
              "#9c179e"
             ],
             [
              0.4444444444444444,
              "#bd3786"
             ],
             [
              0.5555555555555556,
              "#d8576b"
             ],
             [
              0.6666666666666666,
              "#ed7953"
             ],
             [
              0.7777777777777778,
              "#fb9f3a"
             ],
             [
              0.8888888888888888,
              "#fdca26"
             ],
             [
              1,
              "#f0f921"
             ]
            ],
            "type": "histogram2d"
           }
          ],
          "histogram2dcontour": [
           {
            "colorbar": {
             "outlinewidth": 0,
             "ticks": ""
            },
            "colorscale": [
             [
              0,
              "#0d0887"
             ],
             [
              0.1111111111111111,
              "#46039f"
             ],
             [
              0.2222222222222222,
              "#7201a8"
             ],
             [
              0.3333333333333333,
              "#9c179e"
             ],
             [
              0.4444444444444444,
              "#bd3786"
             ],
             [
              0.5555555555555556,
              "#d8576b"
             ],
             [
              0.6666666666666666,
              "#ed7953"
             ],
             [
              0.7777777777777778,
              "#fb9f3a"
             ],
             [
              0.8888888888888888,
              "#fdca26"
             ],
             [
              1,
              "#f0f921"
             ]
            ],
            "type": "histogram2dcontour"
           }
          ],
          "mesh3d": [
           {
            "colorbar": {
             "outlinewidth": 0,
             "ticks": ""
            },
            "type": "mesh3d"
           }
          ],
          "parcoords": [
           {
            "line": {
             "colorbar": {
              "outlinewidth": 0,
              "ticks": ""
             }
            },
            "type": "parcoords"
           }
          ],
          "pie": [
           {
            "automargin": true,
            "type": "pie"
           }
          ],
          "scatter": [
           {
            "fillpattern": {
             "fillmode": "overlay",
             "size": 10,
             "solidity": 0.2
            },
            "type": "scatter"
           }
          ],
          "scatter3d": [
           {
            "line": {
             "colorbar": {
              "outlinewidth": 0,
              "ticks": ""
             }
            },
            "marker": {
             "colorbar": {
              "outlinewidth": 0,
              "ticks": ""
             }
            },
            "type": "scatter3d"
           }
          ],
          "scattercarpet": [
           {
            "marker": {
             "colorbar": {
              "outlinewidth": 0,
              "ticks": ""
             }
            },
            "type": "scattercarpet"
           }
          ],
          "scattergeo": [
           {
            "marker": {
             "colorbar": {
              "outlinewidth": 0,
              "ticks": ""
             }
            },
            "type": "scattergeo"
           }
          ],
          "scattergl": [
           {
            "marker": {
             "colorbar": {
              "outlinewidth": 0,
              "ticks": ""
             }
            },
            "type": "scattergl"
           }
          ],
          "scattermap": [
           {
            "marker": {
             "colorbar": {
              "outlinewidth": 0,
              "ticks": ""
             }
            },
            "type": "scattermap"
           }
          ],
          "scattermapbox": [
           {
            "marker": {
             "colorbar": {
              "outlinewidth": 0,
              "ticks": ""
             }
            },
            "type": "scattermapbox"
           }
          ],
          "scatterpolar": [
           {
            "marker": {
             "colorbar": {
              "outlinewidth": 0,
              "ticks": ""
             }
            },
            "type": "scatterpolar"
           }
          ],
          "scatterpolargl": [
           {
            "marker": {
             "colorbar": {
              "outlinewidth": 0,
              "ticks": ""
             }
            },
            "type": "scatterpolargl"
           }
          ],
          "scatterternary": [
           {
            "marker": {
             "colorbar": {
              "outlinewidth": 0,
              "ticks": ""
             }
            },
            "type": "scatterternary"
           }
          ],
          "surface": [
           {
            "colorbar": {
             "outlinewidth": 0,
             "ticks": ""
            },
            "colorscale": [
             [
              0,
              "#0d0887"
             ],
             [
              0.1111111111111111,
              "#46039f"
             ],
             [
              0.2222222222222222,
              "#7201a8"
             ],
             [
              0.3333333333333333,
              "#9c179e"
             ],
             [
              0.4444444444444444,
              "#bd3786"
             ],
             [
              0.5555555555555556,
              "#d8576b"
             ],
             [
              0.6666666666666666,
              "#ed7953"
             ],
             [
              0.7777777777777778,
              "#fb9f3a"
             ],
             [
              0.8888888888888888,
              "#fdca26"
             ],
             [
              1,
              "#f0f921"
             ]
            ],
            "type": "surface"
           }
          ],
          "table": [
           {
            "cells": {
             "fill": {
              "color": "#EBF0F8"
             },
             "line": {
              "color": "white"
             }
            },
            "header": {
             "fill": {
              "color": "#C8D4E3"
             },
             "line": {
              "color": "white"
             }
            },
            "type": "table"
           }
          ]
         },
         "layout": {
          "annotationdefaults": {
           "arrowcolor": "#2a3f5f",
           "arrowhead": 0,
           "arrowwidth": 1
          },
          "autotypenumbers": "strict",
          "coloraxis": {
           "colorbar": {
            "outlinewidth": 0,
            "ticks": ""
           }
          },
          "colorscale": {
           "diverging": [
            [
             0,
             "#8e0152"
            ],
            [
             0.1,
             "#c51b7d"
            ],
            [
             0.2,
             "#de77ae"
            ],
            [
             0.3,
             "#f1b6da"
            ],
            [
             0.4,
             "#fde0ef"
            ],
            [
             0.5,
             "#f7f7f7"
            ],
            [
             0.6,
             "#e6f5d0"
            ],
            [
             0.7,
             "#b8e186"
            ],
            [
             0.8,
             "#7fbc41"
            ],
            [
             0.9,
             "#4d9221"
            ],
            [
             1,
             "#276419"
            ]
           ],
           "sequential": [
            [
             0,
             "#0d0887"
            ],
            [
             0.1111111111111111,
             "#46039f"
            ],
            [
             0.2222222222222222,
             "#7201a8"
            ],
            [
             0.3333333333333333,
             "#9c179e"
            ],
            [
             0.4444444444444444,
             "#bd3786"
            ],
            [
             0.5555555555555556,
             "#d8576b"
            ],
            [
             0.6666666666666666,
             "#ed7953"
            ],
            [
             0.7777777777777778,
             "#fb9f3a"
            ],
            [
             0.8888888888888888,
             "#fdca26"
            ],
            [
             1,
             "#f0f921"
            ]
           ],
           "sequentialminus": [
            [
             0,
             "#0d0887"
            ],
            [
             0.1111111111111111,
             "#46039f"
            ],
            [
             0.2222222222222222,
             "#7201a8"
            ],
            [
             0.3333333333333333,
             "#9c179e"
            ],
            [
             0.4444444444444444,
             "#bd3786"
            ],
            [
             0.5555555555555556,
             "#d8576b"
            ],
            [
             0.6666666666666666,
             "#ed7953"
            ],
            [
             0.7777777777777778,
             "#fb9f3a"
            ],
            [
             0.8888888888888888,
             "#fdca26"
            ],
            [
             1,
             "#f0f921"
            ]
           ]
          },
          "colorway": [
           "#636efa",
           "#EF553B",
           "#00cc96",
           "#ab63fa",
           "#FFA15A",
           "#19d3f3",
           "#FF6692",
           "#B6E880",
           "#FF97FF",
           "#FECB52"
          ],
          "font": {
           "color": "#2a3f5f"
          },
          "geo": {
           "bgcolor": "white",
           "lakecolor": "white",
           "landcolor": "#E5ECF6",
           "showlakes": true,
           "showland": true,
           "subunitcolor": "white"
          },
          "hoverlabel": {
           "align": "left"
          },
          "hovermode": "closest",
          "mapbox": {
           "style": "light"
          },
          "paper_bgcolor": "white",
          "plot_bgcolor": "#E5ECF6",
          "polar": {
           "angularaxis": {
            "gridcolor": "white",
            "linecolor": "white",
            "ticks": ""
           },
           "bgcolor": "#E5ECF6",
           "radialaxis": {
            "gridcolor": "white",
            "linecolor": "white",
            "ticks": ""
           }
          },
          "scene": {
           "xaxis": {
            "backgroundcolor": "#E5ECF6",
            "gridcolor": "white",
            "gridwidth": 2,
            "linecolor": "white",
            "showbackground": true,
            "ticks": "",
            "zerolinecolor": "white"
           },
           "yaxis": {
            "backgroundcolor": "#E5ECF6",
            "gridcolor": "white",
            "gridwidth": 2,
            "linecolor": "white",
            "showbackground": true,
            "ticks": "",
            "zerolinecolor": "white"
           },
           "zaxis": {
            "backgroundcolor": "#E5ECF6",
            "gridcolor": "white",
            "gridwidth": 2,
            "linecolor": "white",
            "showbackground": true,
            "ticks": "",
            "zerolinecolor": "white"
           }
          },
          "shapedefaults": {
           "line": {
            "color": "#2a3f5f"
           }
          },
          "ternary": {
           "aaxis": {
            "gridcolor": "white",
            "linecolor": "white",
            "ticks": ""
           },
           "baxis": {
            "gridcolor": "white",
            "linecolor": "white",
            "ticks": ""
           },
           "bgcolor": "#E5ECF6",
           "caxis": {
            "gridcolor": "white",
            "linecolor": "white",
            "ticks": ""
           }
          },
          "title": {
           "x": 0.05
          },
          "xaxis": {
           "automargin": true,
           "gridcolor": "white",
           "linecolor": "white",
           "ticks": "",
           "title": {
            "standoff": 15
           },
           "zerolinecolor": "white",
           "zerolinewidth": 2
          },
          "yaxis": {
           "automargin": true,
           "gridcolor": "white",
           "linecolor": "white",
           "ticks": "",
           "title": {
            "standoff": 15
           },
           "zerolinecolor": "white",
           "zerolinewidth": 2
          }
         }
        },
        "title": {
         "text": "Number of features per dimension"
        },
        "width": 800,
        "xaxis": {
         "title": {
          "text": "1/(1-S) (log scale)"
         },
         "type": "log"
        },
        "yaxis": {
         "range": [
          0,
          5.069493198394776
         ],
         "title": {
          "text": "Number of features per dimension"
         }
        }
       }
      }
     },
     "metadata": {},
     "output_type": "display_data"
    }
   ],
   "source": [
    "plot_feats_per_dim(stacked_params_dense, configs_dense, feature_probs, importances, DEVICE)"
   ]
  },
  {
   "cell_type": "code",
   "execution_count": null,
   "id": "7778334c",
   "metadata": {},
   "outputs": [
    {
     "data": {
      "application/vnd.plotly.v1+json": {
       "config": {
        "plotlyServerURL": "https://plot.ly"
       },
       "data": [
        {
         "line": {
          "color": "blue",
          "width": 3
         },
         "marker": {
          "color": "blue",
          "size": 8
         },
         "mode": "markers+lines",
         "name": "Dense Model",
         "type": "scatter",
         "x": [
          1,
          1.0526315921561542,
          1.098901067230959,
          1.1627906783327278,
          1.2345678976006922,
          1.3157894901951928,
          1.3888888336994052,
          1.492537276254622,
          1.612903213401739,
          1.7543859869269236,
          1.8867925546822037,
          2.083333379899463,
          2.3255813566654555,
          2.6315789803903855,
          2.941176439651569,
          3.4482759612919205,
          4.166666759798926,
          5.263157960780771,
          6.666666401757145,
          9.99999985098839
         ],
         "y": [
          0.9994279742240906,
          1.0046653747558594,
          1.0128390789031982,
          1.0334839820861816,
          1.0586336851119995,
          1.0868505239486694,
          1.1231505870819092,
          1.175705909729004,
          1.2671204805374146,
          1.6177804470062256,
          1.715004324913025,
          1.8687824010849,
          1.9336475133895874,
          1.9658390283584595,
          1.979673981666565,
          2.0408825874328613,
          2.44109845161438,
          2.9677634239196777,
          3.4835758209228516,
          4.608630180358887
         ]
        },
        {
         "line": {
          "color": "red",
          "width": 3
         },
         "marker": {
          "color": "red",
          "size": 8
         },
         "mode": "markers+lines",
         "name": "MoE Model",
         "type": "scatter",
         "x": [
          1,
          1.0526315921561542,
          1.098901067230959,
          1.1627906783327278,
          1.2345678976006922,
          1.3157894901951928,
          1.3888888336994052,
          1.492537276254622,
          1.612903213401739,
          1.7543859869269236,
          1.8867925546822037,
          2.083333379899463,
          2.3255813566654555,
          2.6315789803903855,
          2.941176439651569,
          3.4482759612919205,
          4.166666759798926,
          5.263157960780771,
          6.666666401757145,
          9.99999985098839
         ],
         "y": [
          0.9940980672836304,
          0.9930499792098999,
          0.9932178854942322,
          0.9961768388748169,
          0.9994504451751709,
          1.005000352859497,
          1.03671133518219,
          1.070743441581726,
          1.1339728832244873,
          1.1163638830184937,
          1.400085687637329,
          1.3665212392807007,
          1.6091139316558838,
          1.8439834117889404,
          1.9629416465759277,
          2.0018677711486816,
          2.0200228691101074,
          2.1077327728271484,
          2.4122960567474365,
          3.02899432182312
         ]
        }
       ],
       "layout": {
        "height": 600,
        "shapes": [
         {
          "line": {
           "color": "orange",
           "dash": "dot"
          },
          "opacity": 0.7,
          "type": "line",
          "x0": 0,
          "x1": 1,
          "xref": "x domain",
          "y0": 1,
          "y1": 1,
          "yref": "y"
         }
        ],
        "showlegend": true,
        "template": {
         "data": {
          "bar": [
           {
            "error_x": {
             "color": "#2a3f5f"
            },
            "error_y": {
             "color": "#2a3f5f"
            },
            "marker": {
             "line": {
              "color": "#E5ECF6",
              "width": 0.5
             },
             "pattern": {
              "fillmode": "overlay",
              "size": 10,
              "solidity": 0.2
             }
            },
            "type": "bar"
           }
          ],
          "barpolar": [
           {
            "marker": {
             "line": {
              "color": "#E5ECF6",
              "width": 0.5
             },
             "pattern": {
              "fillmode": "overlay",
              "size": 10,
              "solidity": 0.2
             }
            },
            "type": "barpolar"
           }
          ],
          "carpet": [
           {
            "aaxis": {
             "endlinecolor": "#2a3f5f",
             "gridcolor": "white",
             "linecolor": "white",
             "minorgridcolor": "white",
             "startlinecolor": "#2a3f5f"
            },
            "baxis": {
             "endlinecolor": "#2a3f5f",
             "gridcolor": "white",
             "linecolor": "white",
             "minorgridcolor": "white",
             "startlinecolor": "#2a3f5f"
            },
            "type": "carpet"
           }
          ],
          "choropleth": [
           {
            "colorbar": {
             "outlinewidth": 0,
             "ticks": ""
            },
            "type": "choropleth"
           }
          ],
          "contour": [
           {
            "colorbar": {
             "outlinewidth": 0,
             "ticks": ""
            },
            "colorscale": [
             [
              0,
              "#0d0887"
             ],
             [
              0.1111111111111111,
              "#46039f"
             ],
             [
              0.2222222222222222,
              "#7201a8"
             ],
             [
              0.3333333333333333,
              "#9c179e"
             ],
             [
              0.4444444444444444,
              "#bd3786"
             ],
             [
              0.5555555555555556,
              "#d8576b"
             ],
             [
              0.6666666666666666,
              "#ed7953"
             ],
             [
              0.7777777777777778,
              "#fb9f3a"
             ],
             [
              0.8888888888888888,
              "#fdca26"
             ],
             [
              1,
              "#f0f921"
             ]
            ],
            "type": "contour"
           }
          ],
          "contourcarpet": [
           {
            "colorbar": {
             "outlinewidth": 0,
             "ticks": ""
            },
            "type": "contourcarpet"
           }
          ],
          "heatmap": [
           {
            "colorbar": {
             "outlinewidth": 0,
             "ticks": ""
            },
            "colorscale": [
             [
              0,
              "#0d0887"
             ],
             [
              0.1111111111111111,
              "#46039f"
             ],
             [
              0.2222222222222222,
              "#7201a8"
             ],
             [
              0.3333333333333333,
              "#9c179e"
             ],
             [
              0.4444444444444444,
              "#bd3786"
             ],
             [
              0.5555555555555556,
              "#d8576b"
             ],
             [
              0.6666666666666666,
              "#ed7953"
             ],
             [
              0.7777777777777778,
              "#fb9f3a"
             ],
             [
              0.8888888888888888,
              "#fdca26"
             ],
             [
              1,
              "#f0f921"
             ]
            ],
            "type": "heatmap"
           }
          ],
          "histogram": [
           {
            "marker": {
             "pattern": {
              "fillmode": "overlay",
              "size": 10,
              "solidity": 0.2
             }
            },
            "type": "histogram"
           }
          ],
          "histogram2d": [
           {
            "colorbar": {
             "outlinewidth": 0,
             "ticks": ""
            },
            "colorscale": [
             [
              0,
              "#0d0887"
             ],
             [
              0.1111111111111111,
              "#46039f"
             ],
             [
              0.2222222222222222,
              "#7201a8"
             ],
             [
              0.3333333333333333,
              "#9c179e"
             ],
             [
              0.4444444444444444,
              "#bd3786"
             ],
             [
              0.5555555555555556,
              "#d8576b"
             ],
             [
              0.6666666666666666,
              "#ed7953"
             ],
             [
              0.7777777777777778,
              "#fb9f3a"
             ],
             [
              0.8888888888888888,
              "#fdca26"
             ],
             [
              1,
              "#f0f921"
             ]
            ],
            "type": "histogram2d"
           }
          ],
          "histogram2dcontour": [
           {
            "colorbar": {
             "outlinewidth": 0,
             "ticks": ""
            },
            "colorscale": [
             [
              0,
              "#0d0887"
             ],
             [
              0.1111111111111111,
              "#46039f"
             ],
             [
              0.2222222222222222,
              "#7201a8"
             ],
             [
              0.3333333333333333,
              "#9c179e"
             ],
             [
              0.4444444444444444,
              "#bd3786"
             ],
             [
              0.5555555555555556,
              "#d8576b"
             ],
             [
              0.6666666666666666,
              "#ed7953"
             ],
             [
              0.7777777777777778,
              "#fb9f3a"
             ],
             [
              0.8888888888888888,
              "#fdca26"
             ],
             [
              1,
              "#f0f921"
             ]
            ],
            "type": "histogram2dcontour"
           }
          ],
          "mesh3d": [
           {
            "colorbar": {
             "outlinewidth": 0,
             "ticks": ""
            },
            "type": "mesh3d"
           }
          ],
          "parcoords": [
           {
            "line": {
             "colorbar": {
              "outlinewidth": 0,
              "ticks": ""
             }
            },
            "type": "parcoords"
           }
          ],
          "pie": [
           {
            "automargin": true,
            "type": "pie"
           }
          ],
          "scatter": [
           {
            "fillpattern": {
             "fillmode": "overlay",
             "size": 10,
             "solidity": 0.2
            },
            "type": "scatter"
           }
          ],
          "scatter3d": [
           {
            "line": {
             "colorbar": {
              "outlinewidth": 0,
              "ticks": ""
             }
            },
            "marker": {
             "colorbar": {
              "outlinewidth": 0,
              "ticks": ""
             }
            },
            "type": "scatter3d"
           }
          ],
          "scattercarpet": [
           {
            "marker": {
             "colorbar": {
              "outlinewidth": 0,
              "ticks": ""
             }
            },
            "type": "scattercarpet"
           }
          ],
          "scattergeo": [
           {
            "marker": {
             "colorbar": {
              "outlinewidth": 0,
              "ticks": ""
             }
            },
            "type": "scattergeo"
           }
          ],
          "scattergl": [
           {
            "marker": {
             "colorbar": {
              "outlinewidth": 0,
              "ticks": ""
             }
            },
            "type": "scattergl"
           }
          ],
          "scattermap": [
           {
            "marker": {
             "colorbar": {
              "outlinewidth": 0,
              "ticks": ""
             }
            },
            "type": "scattermap"
           }
          ],
          "scattermapbox": [
           {
            "marker": {
             "colorbar": {
              "outlinewidth": 0,
              "ticks": ""
             }
            },
            "type": "scattermapbox"
           }
          ],
          "scatterpolar": [
           {
            "marker": {
             "colorbar": {
              "outlinewidth": 0,
              "ticks": ""
             }
            },
            "type": "scatterpolar"
           }
          ],
          "scatterpolargl": [
           {
            "marker": {
             "colorbar": {
              "outlinewidth": 0,
              "ticks": ""
             }
            },
            "type": "scatterpolargl"
           }
          ],
          "scatterternary": [
           {
            "marker": {
             "colorbar": {
              "outlinewidth": 0,
              "ticks": ""
             }
            },
            "type": "scatterternary"
           }
          ],
          "surface": [
           {
            "colorbar": {
             "outlinewidth": 0,
             "ticks": ""
            },
            "colorscale": [
             [
              0,
              "#0d0887"
             ],
             [
              0.1111111111111111,
              "#46039f"
             ],
             [
              0.2222222222222222,
              "#7201a8"
             ],
             [
              0.3333333333333333,
              "#9c179e"
             ],
             [
              0.4444444444444444,
              "#bd3786"
             ],
             [
              0.5555555555555556,
              "#d8576b"
             ],
             [
              0.6666666666666666,
              "#ed7953"
             ],
             [
              0.7777777777777778,
              "#fb9f3a"
             ],
             [
              0.8888888888888888,
              "#fdca26"
             ],
             [
              1,
              "#f0f921"
             ]
            ],
            "type": "surface"
           }
          ],
          "table": [
           {
            "cells": {
             "fill": {
              "color": "#EBF0F8"
             },
             "line": {
              "color": "white"
             }
            },
            "header": {
             "fill": {
              "color": "#C8D4E3"
             },
             "line": {
              "color": "white"
             }
            },
            "type": "table"
           }
          ]
         },
         "layout": {
          "annotationdefaults": {
           "arrowcolor": "#2a3f5f",
           "arrowhead": 0,
           "arrowwidth": 1
          },
          "autotypenumbers": "strict",
          "coloraxis": {
           "colorbar": {
            "outlinewidth": 0,
            "ticks": ""
           }
          },
          "colorscale": {
           "diverging": [
            [
             0,
             "#8e0152"
            ],
            [
             0.1,
             "#c51b7d"
            ],
            [
             0.2,
             "#de77ae"
            ],
            [
             0.3,
             "#f1b6da"
            ],
            [
             0.4,
             "#fde0ef"
            ],
            [
             0.5,
             "#f7f7f7"
            ],
            [
             0.6,
             "#e6f5d0"
            ],
            [
             0.7,
             "#b8e186"
            ],
            [
             0.8,
             "#7fbc41"
            ],
            [
             0.9,
             "#4d9221"
            ],
            [
             1,
             "#276419"
            ]
           ],
           "sequential": [
            [
             0,
             "#0d0887"
            ],
            [
             0.1111111111111111,
             "#46039f"
            ],
            [
             0.2222222222222222,
             "#7201a8"
            ],
            [
             0.3333333333333333,
             "#9c179e"
            ],
            [
             0.4444444444444444,
             "#bd3786"
            ],
            [
             0.5555555555555556,
             "#d8576b"
            ],
            [
             0.6666666666666666,
             "#ed7953"
            ],
            [
             0.7777777777777778,
             "#fb9f3a"
            ],
            [
             0.8888888888888888,
             "#fdca26"
            ],
            [
             1,
             "#f0f921"
            ]
           ],
           "sequentialminus": [
            [
             0,
             "#0d0887"
            ],
            [
             0.1111111111111111,
             "#46039f"
            ],
            [
             0.2222222222222222,
             "#7201a8"
            ],
            [
             0.3333333333333333,
             "#9c179e"
            ],
            [
             0.4444444444444444,
             "#bd3786"
            ],
            [
             0.5555555555555556,
             "#d8576b"
            ],
            [
             0.6666666666666666,
             "#ed7953"
            ],
            [
             0.7777777777777778,
             "#fb9f3a"
            ],
            [
             0.8888888888888888,
             "#fdca26"
            ],
            [
             1,
             "#f0f921"
            ]
           ]
          },
          "colorway": [
           "#636efa",
           "#EF553B",
           "#00cc96",
           "#ab63fa",
           "#FFA15A",
           "#19d3f3",
           "#FF6692",
           "#B6E880",
           "#FF97FF",
           "#FECB52"
          ],
          "font": {
           "color": "#2a3f5f"
          },
          "geo": {
           "bgcolor": "white",
           "lakecolor": "white",
           "landcolor": "#E5ECF6",
           "showlakes": true,
           "showland": true,
           "subunitcolor": "white"
          },
          "hoverlabel": {
           "align": "left"
          },
          "hovermode": "closest",
          "mapbox": {
           "style": "light"
          },
          "paper_bgcolor": "white",
          "plot_bgcolor": "#E5ECF6",
          "polar": {
           "angularaxis": {
            "gridcolor": "white",
            "linecolor": "white",
            "ticks": ""
           },
           "bgcolor": "#E5ECF6",
           "radialaxis": {
            "gridcolor": "white",
            "linecolor": "white",
            "ticks": ""
           }
          },
          "scene": {
           "xaxis": {
            "backgroundcolor": "#E5ECF6",
            "gridcolor": "white",
            "gridwidth": 2,
            "linecolor": "white",
            "showbackground": true,
            "ticks": "",
            "zerolinecolor": "white"
           },
           "yaxis": {
            "backgroundcolor": "#E5ECF6",
            "gridcolor": "white",
            "gridwidth": 2,
            "linecolor": "white",
            "showbackground": true,
            "ticks": "",
            "zerolinecolor": "white"
           },
           "zaxis": {
            "backgroundcolor": "#E5ECF6",
            "gridcolor": "white",
            "gridwidth": 2,
            "linecolor": "white",
            "showbackground": true,
            "ticks": "",
            "zerolinecolor": "white"
           }
          },
          "shapedefaults": {
           "line": {
            "color": "#2a3f5f"
           }
          },
          "ternary": {
           "aaxis": {
            "gridcolor": "white",
            "linecolor": "white",
            "ticks": ""
           },
           "baxis": {
            "gridcolor": "white",
            "linecolor": "white",
            "ticks": ""
           },
           "bgcolor": "#E5ECF6",
           "caxis": {
            "gridcolor": "white",
            "linecolor": "white",
            "ticks": ""
           }
          },
          "title": {
           "x": 0.05
          },
          "xaxis": {
           "automargin": true,
           "gridcolor": "white",
           "linecolor": "white",
           "ticks": "",
           "title": {
            "standoff": 15
           },
           "zerolinecolor": "white",
           "zerolinewidth": 2
          },
          "yaxis": {
           "automargin": true,
           "gridcolor": "white",
           "linecolor": "white",
           "ticks": "",
           "title": {
            "standoff": 15
           },
           "zerolinecolor": "white",
           "zerolinewidth": 2
          }
         }
        },
        "title": {
         "text": "Number of features per dimension: Dense vs MoE"
        },
        "width": 800,
        "xaxis": {
         "title": {
          "text": "1/(1-S) (log scale)"
         },
         "type": "log"
        },
        "yaxis": {
         "range": [
          0,
          5.069493198394776
         ],
         "title": {
          "text": "Number of features per dimension"
         }
        }
       }
      }
     },
     "metadata": {},
     "output_type": "display_data"
    }
   ],
   "source": [
    "def plot_feats_per_dim_comparison(stacked_params_dense, configs_dense, stacked_params_moe, configs_moe, feature_probs, importances, device):\n",
    "    \"\"\"compare weighted average features per dimension between dense and MoE models\"\"\"\n",
    "    \n",
    "    # extract individual models for dense\n",
    "    individual_models_dense = extract_individual_models(stacked_params_dense, configs_dense, feature_probs, importances, device)\n",
    "    \n",
    "    # extract individual models for moe\n",
    "    individual_models_moe = extract_individual_models(stacked_params_moe, configs_moe, feature_probs, importances, device)\n",
    "    \n",
    "    # calculate weighted average features per dimension for dense\n",
    "    weighted_feats_per_dim_dense = []\n",
    "    for model in individual_models_dense:\n",
    "        weighted_feat_per_dim, _, _ = weighted_avg_features_per_dim(model)\n",
    "        weighted_feats_per_dim_dense.append(weighted_feat_per_dim.item())\n",
    "    \n",
    "    # calculate weighted average features per dimension for moe\n",
    "    weighted_feats_per_dim_moe = []\n",
    "    for model in individual_models_moe:\n",
    "        weighted_feat_per_dim, _, _ = weighted_avg_features_per_dim(model)\n",
    "        weighted_feats_per_dim_moe.append(weighted_feat_per_dim.item())\n",
    "    \n",
    "    # transform to x-axis values (feature_probs = 1-s, so 1/(1-s) = 1/feature_probs)\n",
    "    x_values = []\n",
    "    for s in feature_probs:\n",
    "        s_val = s.item()\n",
    "        if s_val <= 0:\n",
    "            # if s <= 0, use a very large value instead of infinity\n",
    "            x_values.append(1000)  \n",
    "        else:\n",
    "            x_values.append(1 / s_val)\n",
    "    \n",
    "    # create plot\n",
    "    fig = go.Figure()\n",
    "    \n",
    "    # add dense model trace\n",
    "    fig.add_trace(go.Scatter(\n",
    "        x=x_values,\n",
    "        y=weighted_feats_per_dim_dense,\n",
    "        mode='markers+lines',\n",
    "        name='Dense Model',\n",
    "        line=dict(width=3, color='blue'),\n",
    "        marker=dict(size=8, color='blue')\n",
    "    ))\n",
    "    \n",
    "    # add moe model trace\n",
    "    fig.add_trace(go.Scatter(\n",
    "        x=x_values,\n",
    "        y=weighted_feats_per_dim_moe,\n",
    "        mode='markers+lines',\n",
    "        name='MoE Model',\n",
    "        line=dict(width=3, color='red'),\n",
    "        marker=dict(size=8, color='red')\n",
    "    ))\n",
    "    \n",
    "    # update layout\n",
    "    fig.update_layout(\n",
    "        title=\"Number of features per dimension: Dense vs MoE\",\n",
    "        xaxis=dict(\n",
    "            title=\"1/(1-S) (log scale)\",\n",
    "            type=\"log\",\n",
    "        ),\n",
    "        yaxis=dict(\n",
    "            title=\"Number of features per dimension\",\n",
    "            range=[0, max(max(weighted_feats_per_dim_dense), max(weighted_feats_per_dim_moe)) * 1.1],\n",
    "        ),\n",
    "        showlegend=True,\n",
    "        width=800,\n",
    "        height=600\n",
    "    )\n",
    "    \n",
    "    # add reference lines\n",
    "    fig.add_hline(y=1, line_dash=\"dot\", line_color=\"orange\", opacity=0.7)\n",
    "    \n",
    "    return fig"
   ]
  },
  {
   "cell_type": "code",
   "execution_count": 27,
   "id": "9ca3b368",
   "metadata": {},
   "outputs": [],
   "source": [
    "def plot_feats_per_dim_comp(stacked_params_list, configs_list, labels, feature_probs, importances, device):\n",
    "    \"\"\"compare weighted average features per dimension between multiple models\n",
    "    \n",
    "    Args:\n",
    "        stacked_params_list: list of stacked parameters for different model types\n",
    "        configs_list: list of configs corresponding to each stacked_params\n",
    "        labels: list of labels for each model type (e.g., ['Dense', 'MoE w/ 3 experts'])\n",
    "        feature_probs: list of feature probabilities (shared across all model types)\n",
    "        importances: list of importance values (shared across all model types)\n",
    "    \"\"\"\n",
    "    \n",
    "    colors = ['blue', 'red', 'green', 'purple', 'orange', 'brown']\n",
    "    \n",
    "    # calculate weighted average features per dimension for each model type\n",
    "    all_weighted_feats_per_dim = []\n",
    "    for stacked_params, configs in zip(stacked_params_list, configs_list):\n",
    "        # extract individual models\n",
    "        individual_models = extract_individual_models(stacked_params, configs, feature_probs, importances, device)\n",
    "        \n",
    "        # calculate weighted average features per dimension\n",
    "        weighted_feats_per_dim = []\n",
    "        for model in individual_models:\n",
    "            weighted_feat_per_dim, _, _ = weighted_avg_features_per_dim(model)\n",
    "            weighted_feats_per_dim.append(weighted_feat_per_dim.item())\n",
    "        \n",
    "        all_weighted_feats_per_dim.append(weighted_feats_per_dim)\n",
    "    \n",
    "    # transform to x-axis values (feature_probs = 1-s, so 1/(1-s) = 1/feature_probs)\n",
    "    x_values = []\n",
    "    for s in feature_probs:\n",
    "        s_val = s.item() if torch.is_tensor(s) else s\n",
    "        if s_val <= 0:\n",
    "            # if s <= 0, use a very large value instead of infinity\n",
    "            x_values.append(1000)  \n",
    "        else:\n",
    "            x_values.append(1 / s_val)\n",
    "    \n",
    "    # create plot\n",
    "    fig = go.Figure()\n",
    "    \n",
    "    # add trace for each model type\n",
    "    for i, (weighted_feats_per_dim, label) in enumerate(zip(all_weighted_feats_per_dim, labels)):\n",
    "        color = colors[i % len(colors)]\n",
    "        fig.add_trace(go.Scatter(\n",
    "            x=x_values,\n",
    "            y=weighted_feats_per_dim,\n",
    "            mode='markers+lines',\n",
    "            name=label,\n",
    "            line=dict(width=3, color=color),\n",
    "            marker=dict(size=8, color=color)\n",
    "        ))\n",
    "    \n",
    "    # calculate max y value for range\n",
    "    max_y = max(max(feats) for feats in all_weighted_feats_per_dim)\n",
    "    \n",
    "    # update layout\n",
    "    fig.update_layout(\n",
    "        title=f\"Number of features per dimension across {len(labels)} models\",\n",
    "        xaxis=dict(\n",
    "            title=\"1/(1-S) (log scale)\",\n",
    "            type=\"log\",\n",
    "        ),\n",
    "        yaxis=dict(\n",
    "            title=\"Number of features per dimension\",\n",
    "            range=[0, max_y * 1.1],\n",
    "        ),\n",
    "        showlegend=True,\n",
    "        width=800,\n",
    "        height=600\n",
    "    )\n",
    "    \n",
    "    # add reference lines\n",
    "    fig.add_hline(y=1, line_dash=\"dot\", line_color=\"orange\", opacity=0.7)\n",
    "    \n",
    "    return fig"
   ]
  },
  {
   "cell_type": "code",
   "execution_count": 28,
   "id": "68e65c3b",
   "metadata": {},
   "outputs": [],
   "source": [
    "a = torch.load('weights-loss/stacked_params_dense.pt')\n",
    "b = torch.load('weights-loss/stacked_params_moe-4t-1a.pt')\n",
    "c = torch.load('weights-loss/stacked_params_moe-10t-2a.pt')\n",
    "d = torch.load('weights-loss/stacked_params_moe-20t-5a.pt')"
   ]
  },
  {
   "cell_type": "code",
   "execution_count": 46,
   "id": "0bc6707e",
   "metadata": {},
   "outputs": [],
   "source": [
    "density_vals = [round(1.0 - i * (0.9 / 29), 2) for i in range(30)]\n",
    "\n",
    "cfg_a = [\n",
    "    Config(n_features=100, n_hidden=20, n_experts=1, n_active_experts=1, load_balancing_loss=False)\n",
    "    for _ in density_vals\n",
    "    ]\n",
    "\n",
    "cfg_b = [\n",
    "    Config(n_features=100, n_hidden=20, n_experts=4, n_active_experts=1, load_balancing_loss=False)\n",
    "    for _ in density_vals\n",
    "    ]\n",
    "\n",
    "cfg_c = [\n",
    "    Config(n_features=100, n_hidden=20, n_experts=10, n_active_experts=2, load_balancing_loss=False)\n",
    "    for _ in density_vals\n",
    "    ]\n",
    "\n",
    "cfg_d = [\n",
    "    Config(n_features=100, n_hidden=20, n_experts=20, n_active_experts=5, load_balancing_loss=False)\n",
    "    for _ in density_vals\n",
    "    ]\n",
    "\n",
    "feature_probs = [torch.tensor(density) for density in density_vals]\n",
    "importances = [torch.ones(config.n_features) for config in cfg_a]"
   ]
  },
  {
   "cell_type": "code",
   "execution_count": 47,
   "id": "656b4b05",
   "metadata": {},
   "outputs": [
    {
     "data": {
      "application/vnd.plotly.v1+json": {
       "config": {
        "plotlyServerURL": "https://plot.ly"
       },
       "data": [
        {
         "line": {
          "color": "blue",
          "width": 3
         },
         "marker": {
          "color": "blue",
          "size": 8
         },
         "mode": "markers+lines",
         "name": "Dense",
         "type": "scatter",
         "x": [
          1,
          1.0309278046442463,
          1.0638297899323061,
          1.098901067230959,
          1.136363642521141,
          1.190476227644621,
          1.2345678976006922,
          1.2820513290766447,
          1.3333333333333333,
          1.3888888336994052,
          1.4492753673265821,
          1.5151514549448057,
          1.5873015993156252,
          1.6666666004392863,
          1.7543859869269236,
          1.8867925546822037,
          2,
          2.1276595798646123,
          2.272727285042282,
          2.4390244115186124,
          2.6315789803903855,
          2.857142905799711,
          3.125000069849195,
          3.4482759612919205,
          3.8461539872299335,
          4.545454570084564,
          5.263157960780771,
          6.25000013969839,
          7.692307974459867,
          9.99999985098839
         ],
         "y": [
          1.0001448392868042,
          1.001291275024414,
          1.0094096660614014,
          1.0120022296905518,
          1.0217158794403076,
          1.0424216985702515,
          1.0552175045013428,
          1.078415036201477,
          1.0985771417617798,
          1.1225286722183228,
          1.1543954610824585,
          1.195224404335022,
          1.2646745443344116,
          1.385117530822754,
          1.577803373336792,
          1.7564153671264648,
          1.8302345275878906,
          1.883689522743225,
          1.9207305908203125,
          1.9475616216659546,
          1.9659875631332397,
          1.977745771408081,
          1.994092583656311,
          2.041764736175537,
          2.236189365386963,
          2.60392427444458,
          2.8754055500030518,
          3.3363614082336426,
          3.9166038036346436,
          4.5729875564575195
         ]
        },
        {
         "line": {
          "color": "red",
          "width": 3
         },
         "marker": {
          "color": "red",
          "size": 8
         },
         "mode": "markers+lines",
         "name": "MoE w/ 4 experts",
         "type": "scatter",
         "x": [
          1,
          1.0309278046442463,
          1.0638297899323061,
          1.098901067230959,
          1.136363642521141,
          1.190476227644621,
          1.2345678976006922,
          1.2820513290766447,
          1.3333333333333333,
          1.3888888336994052,
          1.4492753673265821,
          1.5151514549448057,
          1.5873015993156252,
          1.6666666004392863,
          1.7543859869269236,
          1.8867925546822037,
          2,
          2.1276595798646123,
          2.272727285042282,
          2.4390244115186124,
          2.6315789803903855,
          2.857142905799711,
          3.125000069849195,
          3.4482759612919205,
          3.8461539872299335,
          4.545454570084564,
          5.263157960780771,
          6.25000013969839,
          7.692307974459867,
          9.99999985098839
         ],
         "y": [
          0.24833893775939941,
          0.24840191006660461,
          0.24856165051460266,
          0.24852021038532257,
          0.24847781658172607,
          0.24864311516284943,
          0.2508522570133209,
          0.25038009881973267,
          0.2535828649997711,
          0.25565412640571594,
          0.2601938843727112,
          0.2659851312637329,
          0.2668154537677765,
          0.2840830981731415,
          0.2855777144432068,
          0.2961832880973816,
          0.34021931886672974,
          0.3423824608325958,
          0.4175685942173004,
          0.43344154953956604,
          0.4585980474948883,
          0.4725688695907593,
          0.4966883063316345,
          0.5004372000694275,
          0.5047051906585693,
          0.5076519250869751,
          0.5295761823654175,
          0.6347150802612305,
          0.6670677661895752,
          0.7213567495346069
         ]
        },
        {
         "line": {
          "color": "green",
          "width": 3
         },
         "marker": {
          "color": "green",
          "size": 8
         },
         "mode": "markers+lines",
         "name": "MoE w/ 10 experts",
         "type": "scatter",
         "x": [
          1,
          1.0309278046442463,
          1.0638297899323061,
          1.098901067230959,
          1.136363642521141,
          1.190476227644621,
          1.2345678976006922,
          1.2820513290766447,
          1.3333333333333333,
          1.3888888336994052,
          1.4492753673265821,
          1.5151514549448057,
          1.5873015993156252,
          1.6666666004392863,
          1.7543859869269236,
          1.8867925546822037,
          2,
          2.1276595798646123,
          2.272727285042282,
          2.4390244115186124,
          2.6315789803903855,
          2.857142905799711,
          3.125000069849195,
          3.4482759612919205,
          3.8461539872299335,
          4.545454570084564,
          5.263157960780771,
          6.25000013969839,
          7.692307974459867,
          9.99999985098839
         ],
         "y": [
          0.09582631289958954,
          0.09607798606157303,
          0.09647361189126968,
          0.09648759663105011,
          0.09635883569717407,
          0.0963762179017067,
          0.09638924151659012,
          0.09596573561429977,
          0.09733906388282776,
          0.09716194868087769,
          0.09712415188550949,
          0.09804274141788483,
          0.09935500472784042,
          0.11137761175632477,
          0.10857059806585312,
          0.1268336921930313,
          0.15294182300567627,
          0.16384154558181763,
          0.17673178017139435,
          0.17879489064216614,
          0.17607566714286804,
          0.18007177114486694,
          0.18528097867965698,
          0.19990509748458862,
          0.1753310263156891,
          0.17374557256698608,
          0.173577219247818,
          0.1901405155658722,
          0.20910292863845825,
          0.2451225221157074
         ]
        },
        {
         "line": {
          "color": "purple",
          "width": 3
         },
         "marker": {
          "color": "purple",
          "size": 8
         },
         "mode": "markers+lines",
         "name": "MoE w/ 20 experts",
         "type": "scatter",
         "x": [
          1,
          1.0309278046442463,
          1.0638297899323061,
          1.098901067230959,
          1.136363642521141,
          1.190476227644621,
          1.2345678976006922,
          1.2820513290766447,
          1.3333333333333333,
          1.3888888336994052,
          1.4492753673265821,
          1.5151514549448057,
          1.5873015993156252,
          1.6666666004392863,
          1.7543859869269236,
          1.8867925546822037,
          2,
          2.1276595798646123,
          2.272727285042282,
          2.4390244115186124,
          2.6315789803903855,
          2.857142905799711,
          3.125000069849195,
          3.4482759612919205,
          3.8461539872299335,
          4.545454570084564,
          5.263157960780771,
          6.25000013969839,
          7.692307974459867,
          9.99999985098839
         ],
         "y": [
          0.043974004685878754,
          0.04677490144968033,
          0.04718281701207161,
          0.04477803036570549,
          0.04636929929256439,
          0.046153854578733444,
          0.04779116064310074,
          0.04664918780326843,
          0.046971410512924194,
          0.047219425439834595,
          0.04823874682188034,
          0.04885847866535187,
          0.04882996901869774,
          0.047842465341091156,
          0.050644852221012115,
          0.050862692296504974,
          0.05100572854280472,
          0.052413880825042725,
          0.056364644318819046,
          0.05165490508079529,
          0.05963127687573433,
          0.061922840774059296,
          0.05656757205724716,
          0.06046490743756294,
          0.06214608997106552,
          0.06241067126393318,
          0.06282096356153488,
          0.0725320354104042,
          0.07547953724861145,
          0.09403368085622787
         ]
        }
       ],
       "layout": {
        "height": 600,
        "shapes": [
         {
          "line": {
           "color": "orange",
           "dash": "dot"
          },
          "opacity": 0.7,
          "type": "line",
          "x0": 0,
          "x1": 1,
          "xref": "x domain",
          "y0": 1,
          "y1": 1,
          "yref": "y"
         }
        ],
        "showlegend": true,
        "template": {
         "data": {
          "bar": [
           {
            "error_x": {
             "color": "#2a3f5f"
            },
            "error_y": {
             "color": "#2a3f5f"
            },
            "marker": {
             "line": {
              "color": "#E5ECF6",
              "width": 0.5
             },
             "pattern": {
              "fillmode": "overlay",
              "size": 10,
              "solidity": 0.2
             }
            },
            "type": "bar"
           }
          ],
          "barpolar": [
           {
            "marker": {
             "line": {
              "color": "#E5ECF6",
              "width": 0.5
             },
             "pattern": {
              "fillmode": "overlay",
              "size": 10,
              "solidity": 0.2
             }
            },
            "type": "barpolar"
           }
          ],
          "carpet": [
           {
            "aaxis": {
             "endlinecolor": "#2a3f5f",
             "gridcolor": "white",
             "linecolor": "white",
             "minorgridcolor": "white",
             "startlinecolor": "#2a3f5f"
            },
            "baxis": {
             "endlinecolor": "#2a3f5f",
             "gridcolor": "white",
             "linecolor": "white",
             "minorgridcolor": "white",
             "startlinecolor": "#2a3f5f"
            },
            "type": "carpet"
           }
          ],
          "choropleth": [
           {
            "colorbar": {
             "outlinewidth": 0,
             "ticks": ""
            },
            "type": "choropleth"
           }
          ],
          "contour": [
           {
            "colorbar": {
             "outlinewidth": 0,
             "ticks": ""
            },
            "colorscale": [
             [
              0,
              "#0d0887"
             ],
             [
              0.1111111111111111,
              "#46039f"
             ],
             [
              0.2222222222222222,
              "#7201a8"
             ],
             [
              0.3333333333333333,
              "#9c179e"
             ],
             [
              0.4444444444444444,
              "#bd3786"
             ],
             [
              0.5555555555555556,
              "#d8576b"
             ],
             [
              0.6666666666666666,
              "#ed7953"
             ],
             [
              0.7777777777777778,
              "#fb9f3a"
             ],
             [
              0.8888888888888888,
              "#fdca26"
             ],
             [
              1,
              "#f0f921"
             ]
            ],
            "type": "contour"
           }
          ],
          "contourcarpet": [
           {
            "colorbar": {
             "outlinewidth": 0,
             "ticks": ""
            },
            "type": "contourcarpet"
           }
          ],
          "heatmap": [
           {
            "colorbar": {
             "outlinewidth": 0,
             "ticks": ""
            },
            "colorscale": [
             [
              0,
              "#0d0887"
             ],
             [
              0.1111111111111111,
              "#46039f"
             ],
             [
              0.2222222222222222,
              "#7201a8"
             ],
             [
              0.3333333333333333,
              "#9c179e"
             ],
             [
              0.4444444444444444,
              "#bd3786"
             ],
             [
              0.5555555555555556,
              "#d8576b"
             ],
             [
              0.6666666666666666,
              "#ed7953"
             ],
             [
              0.7777777777777778,
              "#fb9f3a"
             ],
             [
              0.8888888888888888,
              "#fdca26"
             ],
             [
              1,
              "#f0f921"
             ]
            ],
            "type": "heatmap"
           }
          ],
          "histogram": [
           {
            "marker": {
             "pattern": {
              "fillmode": "overlay",
              "size": 10,
              "solidity": 0.2
             }
            },
            "type": "histogram"
           }
          ],
          "histogram2d": [
           {
            "colorbar": {
             "outlinewidth": 0,
             "ticks": ""
            },
            "colorscale": [
             [
              0,
              "#0d0887"
             ],
             [
              0.1111111111111111,
              "#46039f"
             ],
             [
              0.2222222222222222,
              "#7201a8"
             ],
             [
              0.3333333333333333,
              "#9c179e"
             ],
             [
              0.4444444444444444,
              "#bd3786"
             ],
             [
              0.5555555555555556,
              "#d8576b"
             ],
             [
              0.6666666666666666,
              "#ed7953"
             ],
             [
              0.7777777777777778,
              "#fb9f3a"
             ],
             [
              0.8888888888888888,
              "#fdca26"
             ],
             [
              1,
              "#f0f921"
             ]
            ],
            "type": "histogram2d"
           }
          ],
          "histogram2dcontour": [
           {
            "colorbar": {
             "outlinewidth": 0,
             "ticks": ""
            },
            "colorscale": [
             [
              0,
              "#0d0887"
             ],
             [
              0.1111111111111111,
              "#46039f"
             ],
             [
              0.2222222222222222,
              "#7201a8"
             ],
             [
              0.3333333333333333,
              "#9c179e"
             ],
             [
              0.4444444444444444,
              "#bd3786"
             ],
             [
              0.5555555555555556,
              "#d8576b"
             ],
             [
              0.6666666666666666,
              "#ed7953"
             ],
             [
              0.7777777777777778,
              "#fb9f3a"
             ],
             [
              0.8888888888888888,
              "#fdca26"
             ],
             [
              1,
              "#f0f921"
             ]
            ],
            "type": "histogram2dcontour"
           }
          ],
          "mesh3d": [
           {
            "colorbar": {
             "outlinewidth": 0,
             "ticks": ""
            },
            "type": "mesh3d"
           }
          ],
          "parcoords": [
           {
            "line": {
             "colorbar": {
              "outlinewidth": 0,
              "ticks": ""
             }
            },
            "type": "parcoords"
           }
          ],
          "pie": [
           {
            "automargin": true,
            "type": "pie"
           }
          ],
          "scatter": [
           {
            "fillpattern": {
             "fillmode": "overlay",
             "size": 10,
             "solidity": 0.2
            },
            "type": "scatter"
           }
          ],
          "scatter3d": [
           {
            "line": {
             "colorbar": {
              "outlinewidth": 0,
              "ticks": ""
             }
            },
            "marker": {
             "colorbar": {
              "outlinewidth": 0,
              "ticks": ""
             }
            },
            "type": "scatter3d"
           }
          ],
          "scattercarpet": [
           {
            "marker": {
             "colorbar": {
              "outlinewidth": 0,
              "ticks": ""
             }
            },
            "type": "scattercarpet"
           }
          ],
          "scattergeo": [
           {
            "marker": {
             "colorbar": {
              "outlinewidth": 0,
              "ticks": ""
             }
            },
            "type": "scattergeo"
           }
          ],
          "scattergl": [
           {
            "marker": {
             "colorbar": {
              "outlinewidth": 0,
              "ticks": ""
             }
            },
            "type": "scattergl"
           }
          ],
          "scattermap": [
           {
            "marker": {
             "colorbar": {
              "outlinewidth": 0,
              "ticks": ""
             }
            },
            "type": "scattermap"
           }
          ],
          "scattermapbox": [
           {
            "marker": {
             "colorbar": {
              "outlinewidth": 0,
              "ticks": ""
             }
            },
            "type": "scattermapbox"
           }
          ],
          "scatterpolar": [
           {
            "marker": {
             "colorbar": {
              "outlinewidth": 0,
              "ticks": ""
             }
            },
            "type": "scatterpolar"
           }
          ],
          "scatterpolargl": [
           {
            "marker": {
             "colorbar": {
              "outlinewidth": 0,
              "ticks": ""
             }
            },
            "type": "scatterpolargl"
           }
          ],
          "scatterternary": [
           {
            "marker": {
             "colorbar": {
              "outlinewidth": 0,
              "ticks": ""
             }
            },
            "type": "scatterternary"
           }
          ],
          "surface": [
           {
            "colorbar": {
             "outlinewidth": 0,
             "ticks": ""
            },
            "colorscale": [
             [
              0,
              "#0d0887"
             ],
             [
              0.1111111111111111,
              "#46039f"
             ],
             [
              0.2222222222222222,
              "#7201a8"
             ],
             [
              0.3333333333333333,
              "#9c179e"
             ],
             [
              0.4444444444444444,
              "#bd3786"
             ],
             [
              0.5555555555555556,
              "#d8576b"
             ],
             [
              0.6666666666666666,
              "#ed7953"
             ],
             [
              0.7777777777777778,
              "#fb9f3a"
             ],
             [
              0.8888888888888888,
              "#fdca26"
             ],
             [
              1,
              "#f0f921"
             ]
            ],
            "type": "surface"
           }
          ],
          "table": [
           {
            "cells": {
             "fill": {
              "color": "#EBF0F8"
             },
             "line": {
              "color": "white"
             }
            },
            "header": {
             "fill": {
              "color": "#C8D4E3"
             },
             "line": {
              "color": "white"
             }
            },
            "type": "table"
           }
          ]
         },
         "layout": {
          "annotationdefaults": {
           "arrowcolor": "#2a3f5f",
           "arrowhead": 0,
           "arrowwidth": 1
          },
          "autotypenumbers": "strict",
          "coloraxis": {
           "colorbar": {
            "outlinewidth": 0,
            "ticks": ""
           }
          },
          "colorscale": {
           "diverging": [
            [
             0,
             "#8e0152"
            ],
            [
             0.1,
             "#c51b7d"
            ],
            [
             0.2,
             "#de77ae"
            ],
            [
             0.3,
             "#f1b6da"
            ],
            [
             0.4,
             "#fde0ef"
            ],
            [
             0.5,
             "#f7f7f7"
            ],
            [
             0.6,
             "#e6f5d0"
            ],
            [
             0.7,
             "#b8e186"
            ],
            [
             0.8,
             "#7fbc41"
            ],
            [
             0.9,
             "#4d9221"
            ],
            [
             1,
             "#276419"
            ]
           ],
           "sequential": [
            [
             0,
             "#0d0887"
            ],
            [
             0.1111111111111111,
             "#46039f"
            ],
            [
             0.2222222222222222,
             "#7201a8"
            ],
            [
             0.3333333333333333,
             "#9c179e"
            ],
            [
             0.4444444444444444,
             "#bd3786"
            ],
            [
             0.5555555555555556,
             "#d8576b"
            ],
            [
             0.6666666666666666,
             "#ed7953"
            ],
            [
             0.7777777777777778,
             "#fb9f3a"
            ],
            [
             0.8888888888888888,
             "#fdca26"
            ],
            [
             1,
             "#f0f921"
            ]
           ],
           "sequentialminus": [
            [
             0,
             "#0d0887"
            ],
            [
             0.1111111111111111,
             "#46039f"
            ],
            [
             0.2222222222222222,
             "#7201a8"
            ],
            [
             0.3333333333333333,
             "#9c179e"
            ],
            [
             0.4444444444444444,
             "#bd3786"
            ],
            [
             0.5555555555555556,
             "#d8576b"
            ],
            [
             0.6666666666666666,
             "#ed7953"
            ],
            [
             0.7777777777777778,
             "#fb9f3a"
            ],
            [
             0.8888888888888888,
             "#fdca26"
            ],
            [
             1,
             "#f0f921"
            ]
           ]
          },
          "colorway": [
           "#636efa",
           "#EF553B",
           "#00cc96",
           "#ab63fa",
           "#FFA15A",
           "#19d3f3",
           "#FF6692",
           "#B6E880",
           "#FF97FF",
           "#FECB52"
          ],
          "font": {
           "color": "#2a3f5f"
          },
          "geo": {
           "bgcolor": "white",
           "lakecolor": "white",
           "landcolor": "#E5ECF6",
           "showlakes": true,
           "showland": true,
           "subunitcolor": "white"
          },
          "hoverlabel": {
           "align": "left"
          },
          "hovermode": "closest",
          "mapbox": {
           "style": "light"
          },
          "paper_bgcolor": "white",
          "plot_bgcolor": "#E5ECF6",
          "polar": {
           "angularaxis": {
            "gridcolor": "white",
            "linecolor": "white",
            "ticks": ""
           },
           "bgcolor": "#E5ECF6",
           "radialaxis": {
            "gridcolor": "white",
            "linecolor": "white",
            "ticks": ""
           }
          },
          "scene": {
           "xaxis": {
            "backgroundcolor": "#E5ECF6",
            "gridcolor": "white",
            "gridwidth": 2,
            "linecolor": "white",
            "showbackground": true,
            "ticks": "",
            "zerolinecolor": "white"
           },
           "yaxis": {
            "backgroundcolor": "#E5ECF6",
            "gridcolor": "white",
            "gridwidth": 2,
            "linecolor": "white",
            "showbackground": true,
            "ticks": "",
            "zerolinecolor": "white"
           },
           "zaxis": {
            "backgroundcolor": "#E5ECF6",
            "gridcolor": "white",
            "gridwidth": 2,
            "linecolor": "white",
            "showbackground": true,
            "ticks": "",
            "zerolinecolor": "white"
           }
          },
          "shapedefaults": {
           "line": {
            "color": "#2a3f5f"
           }
          },
          "ternary": {
           "aaxis": {
            "gridcolor": "white",
            "linecolor": "white",
            "ticks": ""
           },
           "baxis": {
            "gridcolor": "white",
            "linecolor": "white",
            "ticks": ""
           },
           "bgcolor": "#E5ECF6",
           "caxis": {
            "gridcolor": "white",
            "linecolor": "white",
            "ticks": ""
           }
          },
          "title": {
           "x": 0.05
          },
          "xaxis": {
           "automargin": true,
           "gridcolor": "white",
           "linecolor": "white",
           "ticks": "",
           "title": {
            "standoff": 15
           },
           "zerolinecolor": "white",
           "zerolinewidth": 2
          },
          "yaxis": {
           "automargin": true,
           "gridcolor": "white",
           "linecolor": "white",
           "ticks": "",
           "title": {
            "standoff": 15
           },
           "zerolinecolor": "white",
           "zerolinewidth": 2
          }
         }
        },
        "title": {
         "text": "Number of features per dimension across 4 models"
        },
        "width": 800,
        "xaxis": {
         "title": {
          "text": "1/(1-S) (log scale)"
         },
         "type": "log"
        },
        "yaxis": {
         "range": [
          0,
          5.0302863121032715
         ],
         "title": {
          "text": "Number of features per dimension"
         }
        }
       }
      }
     },
     "metadata": {},
     "output_type": "display_data"
    }
   ],
   "source": [
    "plot_feats_per_dim_comp([a, b, c, d], [cfg_a, cfg_b, cfg_c, cfg_d], \n",
    "['Dense', 'MoE w/ 4 experts', 'MoE w/ 10 experts', 'MoE w/ 20 experts'], \n",
    "feature_probs, importances, DEVICE)"
   ]
  },
  {
   "cell_type": "code",
   "execution_count": 105,
   "id": "dbdfec30",
   "metadata": {},
   "outputs": [
    {
     "name": "stdout",
     "output_type": "stream",
     "text": [
      "Step 0: avg_loss=0.159095, lr=0.001000\n",
      "Step 1000: avg_loss=0.069632, lr=0.001000\n",
      "Step 2000: avg_loss=0.068747, lr=0.001000\n",
      "Step 3000: avg_loss=0.068349, lr=0.001000\n",
      "Step 4000: avg_loss=0.068244, lr=0.001000\n",
      "Step 5000: avg_loss=0.068358, lr=0.001000\n",
      "Step 6000: avg_loss=0.068195, lr=0.001000\n",
      "Step 7000: avg_loss=0.068122, lr=0.001000\n",
      "Step 8000: avg_loss=0.068287, lr=0.001000\n",
      "Step 9000: avg_loss=0.068154, lr=0.001000\n",
      "Step 9999: avg_loss=0.068227, lr=0.001000\n"
     ]
    }
   ],
   "source": [
    "density_vals_30 = [round(1.0 - i * (0.9 / 29), 2) for i in range(30)]\n",
    "\n",
    "configs_dense_30 = [\n",
    "    Config(n_features=100, n_hidden=20, n_experts=1, n_active_experts=1, load_balancing_loss=False)\n",
    "    for _ in density_vals_30\n",
    "    ]\n",
    "\n",
    "feature_probs_30 = [torch.tensor(density) for density in density_vals_30]\n",
    "importances_30 = [torch.ones(config.n_features) for config in configs_dense_30]\n",
    "\n",
    "loss_dense_30, stacked_params_dense_30 = optimize_vectorized(configs_dense_30, feature_probs_30, importances_30, n_batch=1024, steps=10000, device=DEVICE, print_freq=1000)"
   ]
  },
  {
   "cell_type": "code",
   "execution_count": 104,
   "id": "84a98453",
   "metadata": {},
   "outputs": [
    {
     "name": "stdout",
     "output_type": "stream",
     "text": [
      "Step 0: avg_loss=0.158245, lr=0.001000\n",
      "Step 1000: avg_loss=0.089433, lr=0.001000\n",
      "Step 2000: avg_loss=0.088933, lr=0.001000\n",
      "Step 3000: avg_loss=0.088790, lr=0.001000\n",
      "Step 4000: avg_loss=0.088535, lr=0.001000\n",
      "Step 5000: avg_loss=0.088644, lr=0.001000\n",
      "Step 6000: avg_loss=0.088659, lr=0.001000\n",
      "Step 7000: avg_loss=0.088546, lr=0.001000\n",
      "Step 8000: avg_loss=0.088486, lr=0.001000\n",
      "Step 9000: avg_loss=0.088656, lr=0.001000\n",
      "Step 9999: avg_loss=0.088710, lr=0.001000\n"
     ]
    }
   ],
   "source": [
    "density_vals_30 = [round(1.0 - i * (0.9 / 29), 2) for i in range(30)]\n",
    "\n",
    "configs_moe_30 = [\n",
    "    Config(n_features=100, n_hidden=5, n_experts=4, n_active_experts=1, load_balancing_loss=False)\n",
    "    for _ in density_vals_30\n",
    "    ]\n",
    "\n",
    "feature_probs_30 = [torch.tensor(density) for density in density_vals_30]\n",
    "importances_30 = [torch.ones(config.n_features) for config in configs_moe_30]\n",
    "\n",
    "loss_moe_30, stacked_params_moe_30 = optimize_vectorized(configs_moe_30, feature_probs_30, importances_30, n_batch=1024, steps=10000, device=DEVICE, print_freq=1000)"
   ]
  },
  {
   "cell_type": "code",
   "execution_count": 106,
   "id": "f5cb6a24",
   "metadata": {},
   "outputs": [
    {
     "data": {
      "application/vnd.plotly.v1+json": {
       "config": {
        "plotlyServerURL": "https://plot.ly"
       },
       "data": [
        {
         "line": {
          "color": "blue",
          "width": 3
         },
         "marker": {
          "color": "blue",
          "size": 8
         },
         "mode": "markers+lines",
         "name": "Dense Model",
         "type": "scatter",
         "x": [
          1,
          1.0309278046442463,
          1.0638297899323061,
          1.098901067230959,
          1.136363642521141,
          1.190476227644621,
          1.2345678976006922,
          1.2820513290766447,
          1.3333333333333333,
          1.3888888336994052,
          1.4492753673265821,
          1.5151514549448057,
          1.5873015993156252,
          1.6666666004392863,
          1.7543859869269236,
          1.8867925546822037,
          2,
          2.1276595798646123,
          2.272727285042282,
          2.4390244115186124,
          2.6315789803903855,
          2.857142905799711,
          3.125000069849195,
          3.4482759612919205,
          3.8461539872299335,
          4.545454570084564,
          5.263157960780771,
          6.25000013969839,
          7.692307974459867,
          9.99999985098839
         ],
         "y": [
          1.0001448392868042,
          1.001291275024414,
          1.0094096660614014,
          1.0120022296905518,
          1.0217158794403076,
          1.0424216985702515,
          1.0552175045013428,
          1.078415036201477,
          1.0985771417617798,
          1.1225286722183228,
          1.1543954610824585,
          1.195224404335022,
          1.2646745443344116,
          1.385117530822754,
          1.577803373336792,
          1.7564153671264648,
          1.8302345275878906,
          1.883689522743225,
          1.9207305908203125,
          1.9475616216659546,
          1.9659875631332397,
          1.977745771408081,
          1.994092583656311,
          2.041764736175537,
          2.236189365386963,
          2.60392427444458,
          2.8754055500030518,
          3.3363614082336426,
          3.9166038036346436,
          4.5729875564575195
         ]
        },
        {
         "line": {
          "color": "red",
          "width": 3
         },
         "marker": {
          "color": "red",
          "size": 8
         },
         "mode": "markers+lines",
         "name": "MoE Model",
         "type": "scatter",
         "x": [
          1,
          1.0309278046442463,
          1.0638297899323061,
          1.098901067230959,
          1.136363642521141,
          1.190476227644621,
          1.2345678976006922,
          1.2820513290766447,
          1.3333333333333333,
          1.3888888336994052,
          1.4492753673265821,
          1.5151514549448057,
          1.5873015993156252,
          1.6666666004392863,
          1.7543859869269236,
          1.8867925546822037,
          2,
          2.1276595798646123,
          2.272727285042282,
          2.4390244115186124,
          2.6315789803903855,
          2.857142905799711,
          3.125000069849195,
          3.4482759612919205,
          3.8461539872299335,
          4.545454570084564,
          5.263157960780771,
          6.25000013969839,
          7.692307974459867,
          9.99999985098839
         ],
         "y": [
          0.9934053421020508,
          0.993679404258728,
          0.9943203926086426,
          0.9941336512565613,
          0.9939963221549988,
          0.9944579005241394,
          1.00321364402771,
          1.001755952835083,
          1.0141624212265015,
          1.0229015350341797,
          1.0409446954727173,
          1.062286615371704,
          1.067168951034546,
          1.134351134300232,
          1.1409046649932861,
          1.1862587928771973,
          1.3557971715927124,
          1.3688899278640747,
          1.657477855682373,
          1.725287914276123,
          1.8360117673873901,
          1.8781145811080933,
          1.9866993427276611,
          2.0020265579223633,
          2.0186431407928467,
          2.0316545963287354,
          2.1208555698394775,
          2.5287108421325684,
          2.6760263442993164,
          2.886772632598877
         ]
        }
       ],
       "layout": {
        "height": 600,
        "shapes": [
         {
          "line": {
           "color": "orange",
           "dash": "dot"
          },
          "opacity": 0.7,
          "type": "line",
          "x0": 0,
          "x1": 1,
          "xref": "x domain",
          "y0": 1,
          "y1": 1,
          "yref": "y"
         }
        ],
        "showlegend": true,
        "template": {
         "data": {
          "bar": [
           {
            "error_x": {
             "color": "#2a3f5f"
            },
            "error_y": {
             "color": "#2a3f5f"
            },
            "marker": {
             "line": {
              "color": "#E5ECF6",
              "width": 0.5
             },
             "pattern": {
              "fillmode": "overlay",
              "size": 10,
              "solidity": 0.2
             }
            },
            "type": "bar"
           }
          ],
          "barpolar": [
           {
            "marker": {
             "line": {
              "color": "#E5ECF6",
              "width": 0.5
             },
             "pattern": {
              "fillmode": "overlay",
              "size": 10,
              "solidity": 0.2
             }
            },
            "type": "barpolar"
           }
          ],
          "carpet": [
           {
            "aaxis": {
             "endlinecolor": "#2a3f5f",
             "gridcolor": "white",
             "linecolor": "white",
             "minorgridcolor": "white",
             "startlinecolor": "#2a3f5f"
            },
            "baxis": {
             "endlinecolor": "#2a3f5f",
             "gridcolor": "white",
             "linecolor": "white",
             "minorgridcolor": "white",
             "startlinecolor": "#2a3f5f"
            },
            "type": "carpet"
           }
          ],
          "choropleth": [
           {
            "colorbar": {
             "outlinewidth": 0,
             "ticks": ""
            },
            "type": "choropleth"
           }
          ],
          "contour": [
           {
            "colorbar": {
             "outlinewidth": 0,
             "ticks": ""
            },
            "colorscale": [
             [
              0,
              "#0d0887"
             ],
             [
              0.1111111111111111,
              "#46039f"
             ],
             [
              0.2222222222222222,
              "#7201a8"
             ],
             [
              0.3333333333333333,
              "#9c179e"
             ],
             [
              0.4444444444444444,
              "#bd3786"
             ],
             [
              0.5555555555555556,
              "#d8576b"
             ],
             [
              0.6666666666666666,
              "#ed7953"
             ],
             [
              0.7777777777777778,
              "#fb9f3a"
             ],
             [
              0.8888888888888888,
              "#fdca26"
             ],
             [
              1,
              "#f0f921"
             ]
            ],
            "type": "contour"
           }
          ],
          "contourcarpet": [
           {
            "colorbar": {
             "outlinewidth": 0,
             "ticks": ""
            },
            "type": "contourcarpet"
           }
          ],
          "heatmap": [
           {
            "colorbar": {
             "outlinewidth": 0,
             "ticks": ""
            },
            "colorscale": [
             [
              0,
              "#0d0887"
             ],
             [
              0.1111111111111111,
              "#46039f"
             ],
             [
              0.2222222222222222,
              "#7201a8"
             ],
             [
              0.3333333333333333,
              "#9c179e"
             ],
             [
              0.4444444444444444,
              "#bd3786"
             ],
             [
              0.5555555555555556,
              "#d8576b"
             ],
             [
              0.6666666666666666,
              "#ed7953"
             ],
             [
              0.7777777777777778,
              "#fb9f3a"
             ],
             [
              0.8888888888888888,
              "#fdca26"
             ],
             [
              1,
              "#f0f921"
             ]
            ],
            "type": "heatmap"
           }
          ],
          "histogram": [
           {
            "marker": {
             "pattern": {
              "fillmode": "overlay",
              "size": 10,
              "solidity": 0.2
             }
            },
            "type": "histogram"
           }
          ],
          "histogram2d": [
           {
            "colorbar": {
             "outlinewidth": 0,
             "ticks": ""
            },
            "colorscale": [
             [
              0,
              "#0d0887"
             ],
             [
              0.1111111111111111,
              "#46039f"
             ],
             [
              0.2222222222222222,
              "#7201a8"
             ],
             [
              0.3333333333333333,
              "#9c179e"
             ],
             [
              0.4444444444444444,
              "#bd3786"
             ],
             [
              0.5555555555555556,
              "#d8576b"
             ],
             [
              0.6666666666666666,
              "#ed7953"
             ],
             [
              0.7777777777777778,
              "#fb9f3a"
             ],
             [
              0.8888888888888888,
              "#fdca26"
             ],
             [
              1,
              "#f0f921"
             ]
            ],
            "type": "histogram2d"
           }
          ],
          "histogram2dcontour": [
           {
            "colorbar": {
             "outlinewidth": 0,
             "ticks": ""
            },
            "colorscale": [
             [
              0,
              "#0d0887"
             ],
             [
              0.1111111111111111,
              "#46039f"
             ],
             [
              0.2222222222222222,
              "#7201a8"
             ],
             [
              0.3333333333333333,
              "#9c179e"
             ],
             [
              0.4444444444444444,
              "#bd3786"
             ],
             [
              0.5555555555555556,
              "#d8576b"
             ],
             [
              0.6666666666666666,
              "#ed7953"
             ],
             [
              0.7777777777777778,
              "#fb9f3a"
             ],
             [
              0.8888888888888888,
              "#fdca26"
             ],
             [
              1,
              "#f0f921"
             ]
            ],
            "type": "histogram2dcontour"
           }
          ],
          "mesh3d": [
           {
            "colorbar": {
             "outlinewidth": 0,
             "ticks": ""
            },
            "type": "mesh3d"
           }
          ],
          "parcoords": [
           {
            "line": {
             "colorbar": {
              "outlinewidth": 0,
              "ticks": ""
             }
            },
            "type": "parcoords"
           }
          ],
          "pie": [
           {
            "automargin": true,
            "type": "pie"
           }
          ],
          "scatter": [
           {
            "fillpattern": {
             "fillmode": "overlay",
             "size": 10,
             "solidity": 0.2
            },
            "type": "scatter"
           }
          ],
          "scatter3d": [
           {
            "line": {
             "colorbar": {
              "outlinewidth": 0,
              "ticks": ""
             }
            },
            "marker": {
             "colorbar": {
              "outlinewidth": 0,
              "ticks": ""
             }
            },
            "type": "scatter3d"
           }
          ],
          "scattercarpet": [
           {
            "marker": {
             "colorbar": {
              "outlinewidth": 0,
              "ticks": ""
             }
            },
            "type": "scattercarpet"
           }
          ],
          "scattergeo": [
           {
            "marker": {
             "colorbar": {
              "outlinewidth": 0,
              "ticks": ""
             }
            },
            "type": "scattergeo"
           }
          ],
          "scattergl": [
           {
            "marker": {
             "colorbar": {
              "outlinewidth": 0,
              "ticks": ""
             }
            },
            "type": "scattergl"
           }
          ],
          "scattermap": [
           {
            "marker": {
             "colorbar": {
              "outlinewidth": 0,
              "ticks": ""
             }
            },
            "type": "scattermap"
           }
          ],
          "scattermapbox": [
           {
            "marker": {
             "colorbar": {
              "outlinewidth": 0,
              "ticks": ""
             }
            },
            "type": "scattermapbox"
           }
          ],
          "scatterpolar": [
           {
            "marker": {
             "colorbar": {
              "outlinewidth": 0,
              "ticks": ""
             }
            },
            "type": "scatterpolar"
           }
          ],
          "scatterpolargl": [
           {
            "marker": {
             "colorbar": {
              "outlinewidth": 0,
              "ticks": ""
             }
            },
            "type": "scatterpolargl"
           }
          ],
          "scatterternary": [
           {
            "marker": {
             "colorbar": {
              "outlinewidth": 0,
              "ticks": ""
             }
            },
            "type": "scatterternary"
           }
          ],
          "surface": [
           {
            "colorbar": {
             "outlinewidth": 0,
             "ticks": ""
            },
            "colorscale": [
             [
              0,
              "#0d0887"
             ],
             [
              0.1111111111111111,
              "#46039f"
             ],
             [
              0.2222222222222222,
              "#7201a8"
             ],
             [
              0.3333333333333333,
              "#9c179e"
             ],
             [
              0.4444444444444444,
              "#bd3786"
             ],
             [
              0.5555555555555556,
              "#d8576b"
             ],
             [
              0.6666666666666666,
              "#ed7953"
             ],
             [
              0.7777777777777778,
              "#fb9f3a"
             ],
             [
              0.8888888888888888,
              "#fdca26"
             ],
             [
              1,
              "#f0f921"
             ]
            ],
            "type": "surface"
           }
          ],
          "table": [
           {
            "cells": {
             "fill": {
              "color": "#EBF0F8"
             },
             "line": {
              "color": "white"
             }
            },
            "header": {
             "fill": {
              "color": "#C8D4E3"
             },
             "line": {
              "color": "white"
             }
            },
            "type": "table"
           }
          ]
         },
         "layout": {
          "annotationdefaults": {
           "arrowcolor": "#2a3f5f",
           "arrowhead": 0,
           "arrowwidth": 1
          },
          "autotypenumbers": "strict",
          "coloraxis": {
           "colorbar": {
            "outlinewidth": 0,
            "ticks": ""
           }
          },
          "colorscale": {
           "diverging": [
            [
             0,
             "#8e0152"
            ],
            [
             0.1,
             "#c51b7d"
            ],
            [
             0.2,
             "#de77ae"
            ],
            [
             0.3,
             "#f1b6da"
            ],
            [
             0.4,
             "#fde0ef"
            ],
            [
             0.5,
             "#f7f7f7"
            ],
            [
             0.6,
             "#e6f5d0"
            ],
            [
             0.7,
             "#b8e186"
            ],
            [
             0.8,
             "#7fbc41"
            ],
            [
             0.9,
             "#4d9221"
            ],
            [
             1,
             "#276419"
            ]
           ],
           "sequential": [
            [
             0,
             "#0d0887"
            ],
            [
             0.1111111111111111,
             "#46039f"
            ],
            [
             0.2222222222222222,
             "#7201a8"
            ],
            [
             0.3333333333333333,
             "#9c179e"
            ],
            [
             0.4444444444444444,
             "#bd3786"
            ],
            [
             0.5555555555555556,
             "#d8576b"
            ],
            [
             0.6666666666666666,
             "#ed7953"
            ],
            [
             0.7777777777777778,
             "#fb9f3a"
            ],
            [
             0.8888888888888888,
             "#fdca26"
            ],
            [
             1,
             "#f0f921"
            ]
           ],
           "sequentialminus": [
            [
             0,
             "#0d0887"
            ],
            [
             0.1111111111111111,
             "#46039f"
            ],
            [
             0.2222222222222222,
             "#7201a8"
            ],
            [
             0.3333333333333333,
             "#9c179e"
            ],
            [
             0.4444444444444444,
             "#bd3786"
            ],
            [
             0.5555555555555556,
             "#d8576b"
            ],
            [
             0.6666666666666666,
             "#ed7953"
            ],
            [
             0.7777777777777778,
             "#fb9f3a"
            ],
            [
             0.8888888888888888,
             "#fdca26"
            ],
            [
             1,
             "#f0f921"
            ]
           ]
          },
          "colorway": [
           "#636efa",
           "#EF553B",
           "#00cc96",
           "#ab63fa",
           "#FFA15A",
           "#19d3f3",
           "#FF6692",
           "#B6E880",
           "#FF97FF",
           "#FECB52"
          ],
          "font": {
           "color": "#2a3f5f"
          },
          "geo": {
           "bgcolor": "white",
           "lakecolor": "white",
           "landcolor": "#E5ECF6",
           "showlakes": true,
           "showland": true,
           "subunitcolor": "white"
          },
          "hoverlabel": {
           "align": "left"
          },
          "hovermode": "closest",
          "mapbox": {
           "style": "light"
          },
          "paper_bgcolor": "white",
          "plot_bgcolor": "#E5ECF6",
          "polar": {
           "angularaxis": {
            "gridcolor": "white",
            "linecolor": "white",
            "ticks": ""
           },
           "bgcolor": "#E5ECF6",
           "radialaxis": {
            "gridcolor": "white",
            "linecolor": "white",
            "ticks": ""
           }
          },
          "scene": {
           "xaxis": {
            "backgroundcolor": "#E5ECF6",
            "gridcolor": "white",
            "gridwidth": 2,
            "linecolor": "white",
            "showbackground": true,
            "ticks": "",
            "zerolinecolor": "white"
           },
           "yaxis": {
            "backgroundcolor": "#E5ECF6",
            "gridcolor": "white",
            "gridwidth": 2,
            "linecolor": "white",
            "showbackground": true,
            "ticks": "",
            "zerolinecolor": "white"
           },
           "zaxis": {
            "backgroundcolor": "#E5ECF6",
            "gridcolor": "white",
            "gridwidth": 2,
            "linecolor": "white",
            "showbackground": true,
            "ticks": "",
            "zerolinecolor": "white"
           }
          },
          "shapedefaults": {
           "line": {
            "color": "#2a3f5f"
           }
          },
          "ternary": {
           "aaxis": {
            "gridcolor": "white",
            "linecolor": "white",
            "ticks": ""
           },
           "baxis": {
            "gridcolor": "white",
            "linecolor": "white",
            "ticks": ""
           },
           "bgcolor": "#E5ECF6",
           "caxis": {
            "gridcolor": "white",
            "linecolor": "white",
            "ticks": ""
           }
          },
          "title": {
           "x": 0.05
          },
          "xaxis": {
           "automargin": true,
           "gridcolor": "white",
           "linecolor": "white",
           "ticks": "",
           "title": {
            "standoff": 15
           },
           "zerolinecolor": "white",
           "zerolinewidth": 2
          },
          "yaxis": {
           "automargin": true,
           "gridcolor": "white",
           "linecolor": "white",
           "ticks": "",
           "title": {
            "standoff": 15
           },
           "zerolinecolor": "white",
           "zerolinewidth": 2
          }
         }
        },
        "title": {
         "text": "Number of features per dimension: Dense vs MoE"
        },
        "width": 800,
        "xaxis": {
         "title": {
          "text": "1/(1-S) (log scale)"
         },
         "type": "log"
        },
        "yaxis": {
         "range": [
          0,
          5.0302863121032715
         ],
         "title": {
          "text": "Number of features per dimension"
         }
        }
       }
      }
     },
     "metadata": {},
     "output_type": "display_data"
    }
   ],
   "source": [
    "plot_feats_per_dim_comparison(stacked_params_dense_30, configs_dense_30, stacked_params_moe_30, configs_moe_30, feature_probs_30, importances_30, DEVICE)"
   ]
  },
  {
   "cell_type": "markdown",
   "id": "84ee635b",
   "metadata": {},
   "source": [
    "#### tex figs"
   ]
  },
  {
   "cell_type": "code",
   "execution_count": 150,
   "id": "142f283e",
   "metadata": {},
   "outputs": [],
   "source": [
    "import matplotlib.pyplot as plt\n",
    "import numpy as np\n",
    "\n",
    "def plot_feats_per_dim_comparison(stacked_params_dense, configs_dense, stacked_params_moe, configs_moe, feature_probs, importances, device):\n",
    "    \"\"\"compare weighted average features per dimension between dense and MoE models\"\"\"\n",
    "    \n",
    "    # extract individual models for dense\n",
    "    individual_models_dense = extract_individual_models(stacked_params_dense, configs_dense, feature_probs, importances, device)\n",
    "    \n",
    "    # extract individual models for moe\n",
    "    individual_models_moe = extract_individual_models(stacked_params_moe, configs_moe, feature_probs, importances, device)\n",
    "    \n",
    "    # calculate weighted average features per dimension for dense\n",
    "    weighted_feats_per_dim_dense = []\n",
    "    for model in individual_models_dense:\n",
    "        weighted_feat_per_dim, _, _ = weighted_avg_features_per_dim(model)\n",
    "        weighted_feats_per_dim_dense.append(weighted_feat_per_dim.item())\n",
    "    \n",
    "    # calculate weighted average features per dimension for moe\n",
    "    weighted_feats_per_dim_moe = []\n",
    "    for model in individual_models_moe:\n",
    "        weighted_feat_per_dim, _, _ = weighted_avg_features_per_dim(model)\n",
    "        weighted_feats_per_dim_moe.append(weighted_feat_per_dim.item())\n",
    "    \n",
    "    # transform to x-axis values (feature_probs = 1-s, so 1/(1-s) = 1/feature_probs)\n",
    "    x_values = []\n",
    "    for s in feature_probs:\n",
    "        s_val = s.item()\n",
    "        if s_val <= 0:\n",
    "            # if s <= 0, use a very large value instead of infinity\n",
    "            x_values.append(1000)  \n",
    "        else:\n",
    "            x_values.append(1 / s_val)\n",
    "    \n",
    "    # set up matplotlib for LaTeX\n",
    "    plt.rcParams.update({\n",
    "        'text.usetex': True,\n",
    "        'font.family': 'serif',\n",
    "        'font.serif': ['Computer Modern'],\n",
    "        'font.size': 12,\n",
    "        'axes.labelsize': 14,\n",
    "        'axes.titlesize': 16,\n",
    "        'legend.fontsize': 12,\n",
    "        'xtick.labelsize': 12,\n",
    "        'ytick.labelsize': 12\n",
    "    })\n",
    "    \n",
    "    # create figure and axis\n",
    "    fig, ax = plt.subplots(figsize=(8, 6))\n",
    "    \n",
    "    # plot dense model with classic blue color\n",
    "    ax.semilogx(x_values, weighted_feats_per_dim_dense, \n",
    "                '-', linewidth=3, color='#1f77b4', \n",
    "                label='Dense')\n",
    "    \n",
    "    # plot moe model with classic orange color\n",
    "    ax.semilogx(x_values, weighted_feats_per_dim_moe, \n",
    "                '-', linewidth=3, color='#ff7f0e', \n",
    "                label='MoE (4 experts)')\n",
    "    \n",
    "    # add reference line\n",
    "    ax.axhline(y=1, linestyle='--', color='orange', alpha=0.7, linewidth=2)\n",
    "    \n",
    "    # set labels and title with LaTeX formatting\n",
    "    ax.set_xlabel(r'$\\frac{1}{1-S}$ (log scale) $\\leftarrow$ dense $|$ sparse $\\rightarrow$')\n",
    "    ax.set_ylabel(r'Features Per Dimension')\n",
    "    # ax.set_title(r'Number of features per dimension: Dense vs MoE')\n",
    "    \n",
    "    # set y-axis limits\n",
    "    y_max = max(max(weighted_feats_per_dim_dense), max(weighted_feats_per_dim_moe)) * 1.1\n",
    "    ax.set_ylim(0, y_max)\n",
    "    \n",
    "    # set custom x-axis ticks from 1 to 10\n",
    "    ax.set_xticks([1, 2, 3, 4, 5, 6, 7, 8, 9, 10])\n",
    "    ax.set_xticklabels(['1', '2', '3', '4', '5', '6', '7', '8', '9', '10'])\n",
    "    \n",
    "    # add legend\n",
    "    ax.legend()\n",
    "    \n",
    "    # add grid for better readability\n",
    "    ax.grid(True, alpha=0.3)\n",
    "    \n",
    "    # tight layout to prevent label cutoff\n",
    "    plt.tight_layout()\n",
    "    \n",
    "    # save as PDF (vector format perfect for LaTeX)\n",
    "    plt.savefig(f'feats_per_dim_comparison-moe.pdf', format='pdf', bbox_inches='tight', dpi=300)\n",
    "    \n",
    "    # also save as PGF for direct LaTeX inclusion\n",
    "    plt.savefig('feats_per_dim_comparison-moe.pgf', format='pgf', bbox_inches='tight')\n",
    "    \n",
    "    # show only once\n",
    "    plt.show()\n",
    "    plt.close()  # close the figure to prevent duplicate display\n",
    "    \n",
    "    return fig"
   ]
  },
  {
   "cell_type": "code",
   "execution_count": 133,
   "id": "a8042c09",
   "metadata": {},
   "outputs": [
    {
     "data": {
      "image/png": "[encoded data removed]",
      "text/plain": [
       "<Figure size 800x600 with 1 Axes>"
      ]
     },
     "metadata": {},
     "output_type": "display_data"
    },
    {
     "data": {
      "image/png": "[encoded data removed]",
      "text/plain": [
       "<Figure size 800x600 with 1 Axes>"
      ]
     },
     "execution_count": 133,
     "metadata": {},
     "output_type": "execute_result"
    }
   ],
   "source": [
    "plot_feats_per_dim_comparison(stacked_params_dense_30, configs_dense_30, stacked_params_moe_30, configs_moe_30, feature_probs_30, importances_30, DEVICE)"
   ]
  },
  {
   "cell_type": "code",
   "execution_count": 149,
   "id": "d00f1c38",
   "metadata": {},
   "outputs": [
    {
     "name": "stdout",
     "output_type": "stream",
     "text": [
      "Step 0: avg_loss=0.155244, lr=0.001000\n",
      "Step 1000: avg_loss=0.085073, lr=0.001000\n",
      "Step 2000: avg_loss=0.083990, lr=0.001000\n",
      "Step 3000: avg_loss=0.083622, lr=0.001000\n",
      "Step 4000: avg_loss=0.083493, lr=0.001000\n",
      "Step 5000: avg_loss=0.083298, lr=0.001000\n",
      "Step 6000: avg_loss=0.083100, lr=0.001000\n",
      "Step 7000: avg_loss=0.082935, lr=0.001000\n",
      "Step 8000: avg_loss=0.082834, lr=0.001000\n",
      "Step 9000: avg_loss=0.082910, lr=0.001000\n",
      "Step 9999: avg_loss=0.082698, lr=0.001000\n"
     ]
    }
   ],
   "source": [
    "density_vals_30 = [round(1.0 - i * (0.9 / 29), 2) for i in range(30)]\n",
    "\n",
    "configs_moe_10 = [\n",
    "    Config(n_features=100, n_hidden=2, n_experts=10, n_active_experts=2, load_balancing_loss=False)\n",
    "    for _ in density_vals_30\n",
    "    ]\n",
    "\n",
    "feature_probs_10 = [torch.tensor(density) for density in density_vals_30]\n",
    "importances_10 = [torch.ones(config.n_features) for config in configs_moe_10]\n",
    "\n",
    "loss_moe_10, stacked_params_moe_10 = optimize_vectorized(configs_moe_10, feature_probs_10, importances_10, n_batch=1024, steps=10000, device=DEVICE, print_freq=1000)"
   ]
  },
  {
   "cell_type": "code",
   "execution_count": 154,
   "id": "e58b7fe2",
   "metadata": {},
   "outputs": [
    {
     "data": {
      "image/png": "[encoded data removed]",
      "text/plain": [
       "<Figure size 800x600 with 1 Axes>"
      ]
     },
     "metadata": {},
     "output_type": "display_data"
    },
    {
     "data": {
      "image/png": "[encoded data removed]",
      "text/plain": [
       "<Figure size 800x600 with 1 Axes>"
      ]
     },
     "execution_count": 154,
     "metadata": {},
     "output_type": "execute_result"
    }
   ],
   "source": [
    "plot_feats_per_dim_comparison(stacked_params_moe_30, configs_moe_30, stacked_params_moe_10, configs_moe_10, feature_probs_10, importances_10, DEVICE)"
   ]
  },
  {
   "cell_type": "markdown",
   "id": "98798084",
   "metadata": {},
   "source": [
    "total experts = 20, active = 5, $m=1$ per expert, $n=100$"
   ]
  },
  {
   "cell_type": "code",
   "execution_count": 6,
   "id": "7923429f",
   "metadata": {},
   "outputs": [
    {
     "data": {
      "text/plain": [
       "torch.Size([30])"
      ]
     },
     "execution_count": 6,
     "metadata": {},
     "output_type": "execute_result"
    }
   ],
   "source": [
    "x = torch.load('dense/loss_dense-1.pt', map_location='cpu')\n",
    "x.shape"
   ]
  },
  {
   "cell_type": "code",
   "execution_count": 98,
   "id": "26884838",
   "metadata": {},
   "outputs": [
    {
     "name": "stdout",
     "output_type": "stream",
     "text": [
      "Loaded dense: averaged 5 files\n",
      "Loaded moe-4t-1a: averaged 5 files\n",
      "Loaded moe-10t-2a: averaged 5 files\n",
      "Loaded moe-20t-5a: averaged 5 files\n"
     ]
    },
    {
     "data": {
      "image/png": "[encoded data removed]",
      "text/plain": [
       "<Figure size 800x600 with 1 Axes>"
      ]
     },
     "metadata": {},
     "output_type": "display_data"
    },
    {
     "data": {
      "image/png": "[encoded data removed]",
      "text/plain": [
       "<Figure size 800x600 with 1 Axes>"
      ]
     },
     "execution_count": 98,
     "metadata": {},
     "output_type": "execute_result"
    }
   ],
   "source": [
    "import torch\n",
    "import matplotlib.pyplot as plt\n",
    "import numpy as np\n",
    "import os\n",
    "from glob import glob\n",
    "\n",
    "def plot_loss_comparison_from_folders():\n",
    "    \"\"\"Plot average loss values from pt files in different model folders\"\"\"\n",
    "    \n",
    "    # define the density values (same as in your notebook)\n",
    "    density_vals_30 = [round(1.0 - i * (0.9 / 29), 2) for i in range(30)]\n",
    "    \n",
    "    # transform to x-axis values: 1/(1-s) where s = density_vals_30\n",
    "    x_values = []\n",
    "    for s in density_vals_30:\n",
    "        if s <= 0:\n",
    "            x_values.append(1000)  # cap for very sparse case\n",
    "        else:\n",
    "            x_values.append(1 / s)\n",
    "    \n",
    "    # define folder paths and their corresponding labels\n",
    "    folders = {\n",
    "        'dense': './weights-loss/dense/',\n",
    "        'moe-4t-1a': './weights-loss/moe-4t-1a/', \n",
    "        'moe-10t-2a': './weights-loss/moe-10t-2a/',\n",
    "        'moe-20t-5a': './weights-loss/moe-20t-5a/'\n",
    "    }\n",
    "    \n",
    "    labels = {\n",
    "        'dense': 'Dense',\n",
    "        'moe-4t-1a': '4 experts, k=1', \n",
    "        'moe-10t-2a': '10 experts, k=2',\n",
    "        'moe-20t-5a': '20 experts, k=5'\n",
    "    }\n",
    "    \n",
    "    def load_and_average_folder(folder_path):\n",
    "        \"\"\"Load all .pt files from folder and return averaged tensor\"\"\"\n",
    "        pt_files = glob(os.path.join(folder_path, '*.pt'))\n",
    "        \n",
    "        if not pt_files:\n",
    "            return None\n",
    "            \n",
    "        all_tensors = []\n",
    "        \n",
    "        for pt_file in pt_files:\n",
    "            try:\n",
    "                # load the tensor directly (since each file contains a single tensor)\n",
    "                tensor = torch.load(pt_file, map_location='cpu')\n",
    "                \n",
    "                # ensure it's a tensor and has 30 elements\n",
    "                if isinstance(tensor, torch.Tensor) and tensor.numel() == 30:\n",
    "                    all_tensors.append(tensor.flatten())  # flatten in case it's not 1D\n",
    "                else:\n",
    "                    print(f\"Warning: {pt_file} doesn't contain a 30-element tensor\")\n",
    "                    \n",
    "            except Exception as e:\n",
    "                print(f\"Error loading {pt_file}: {e}\")\n",
    "                continue\n",
    "        \n",
    "        if not all_tensors:\n",
    "            return None\n",
    "            \n",
    "        # stack and average across all files (files 1-5 for each folder)\n",
    "        stacked_tensors = torch.stack(all_tensors)\n",
    "        averaged_tensor = stacked_tensors.mean(dim=0)\n",
    "        \n",
    "        return averaged_tensor\n",
    "    \n",
    "    # load and average data from all folders\n",
    "    folder_data = {}\n",
    "    \n",
    "    for folder_name, folder_path in folders.items():\n",
    "        avg_tensor = load_and_average_folder(folder_path)\n",
    "        if avg_tensor is not None:\n",
    "            folder_data[folder_name] = {\n",
    "                'values': avg_tensor,\n",
    "                'label': labels[folder_name]\n",
    "            }\n",
    "            print(f\"Loaded {folder_name}: averaged {len(glob(os.path.join(folder_path, '*.pt')))} files\")\n",
    "        else:\n",
    "            print(f\"No valid data found in {folder_name}\")\n",
    "    \n",
    "    # set up matplotlib for LaTeX (same as your original function)\n",
    "    plt.rcParams.update({\n",
    "        'text.usetex': True,\n",
    "        'font.family': 'serif',\n",
    "        'font.serif': ['Computer Modern'],\n",
    "        'font.size': 12,\n",
    "        'axes.labelsize': 14,\n",
    "        'axes.titlesize': 16,\n",
    "        'legend.fontsize': 12,\n",
    "        'xtick.labelsize': 12,\n",
    "        'ytick.labelsize': 12\n",
    "    })\n",
    "    \n",
    "    # create figure and axis\n",
    "    fig, ax = plt.subplots(figsize=(8, 6))\n",
    "    \n",
    "    # define colors for each model type\n",
    "    colors = {\n",
    "        'dense': '#1f77b4',      # blue\n",
    "        'moe-4t-1a': '#ff7f0e',  # orange  \n",
    "        'moe-10t-2a': '#2ca02c', # green\n",
    "        'moe-20t-5a': '#d62728'  # red\n",
    "    }\n",
    "    \n",
    "    # plot data for each folder\n",
    "    for folder_name, data in folder_data.items():\n",
    "        values = data['values'].detach().numpy()  # convert to numpy for plotting\n",
    "        \n",
    "        # take log of the loss values\n",
    "        log_values = np.log(values)\n",
    "        \n",
    "        # plot with semilog x-axis\n",
    "        ax.semilogx(x_values, log_values,\n",
    "                   '-', linewidth=3, color=colors[folder_name], \n",
    "                   label=data['label'])\n",
    "    \n",
    "    # set labels and formatting\n",
    "    ax.set_xlabel(r'$\\frac{1}{1-S}$ (log scale) $\\leftarrow$ dense $|$ sparse $\\rightarrow$')\n",
    "    ax.set_ylabel(r'Log Average Loss')\n",
    "    \n",
    "    # set x-axis limits and ticks (from 1 to 10 as in your original function)\n",
    "    ax.set_xlim(1, 10)\n",
    "    ax.set_xticks([1, 2, 3, 4, 5, 6, 7, 8, 9, 10])\n",
    "    ax.set_xticklabels(['1', '2', '3', '4', '5', '6', '7', '8', '9', '10'])\n",
    "    \n",
    "    # add legend and grid\n",
    "    ax.legend()\n",
    "    ax.grid(True, alpha=0.3)\n",
    "    \n",
    "    # tight layout\n",
    "    plt.tight_layout()\n",
    "    \n",
    "    # save the plot\n",
    "    plt.savefig('loss_comparison_all_models.pdf', format='pdf', bbox_inches='tight', dpi=300)\n",
    "    plt.savefig('loss_comparison_all_models.pgf', format='pgf', bbox_inches='tight')\n",
    "    \n",
    "    # show and close\n",
    "    plt.show()\n",
    "    plt.close()\n",
    "    \n",
    "    return fig\n",
    "\n",
    "# call the function\n",
    "plot_loss_comparison_from_folders()\n"
   ]
  },
  {
   "cell_type": "code",
   "execution_count": 27,
   "id": "ae0d6a7d",
   "metadata": {},
   "outputs": [],
   "source": [
    "import matplotlib.pyplot as plt\n",
    "import numpy as np\n",
    "\n",
    "def plot_feats_per_dim_comparison_all(stacked_params_dense_30, configs_dense_30, stacked_params_moe_30, configs_moe_30, stacked_params_moe_10, configs_moe_10, stacked_params_moe_20, configs_moe_20, feature_probs_30, importances_30, feature_probs_10, importances_10, feature_probs_20, importances_20):\n",
    "    \"\"\"compare weighted average features per dimension between Dense and MoE models with different expert counts\"\"\"\n",
    "    \n",
    "    # extract individual models for dense\n",
    "    individual_models_dense_30 = extract_individual_models(stacked_params_dense_30, configs_dense_30, feature_probs_30, importances_30, device=DEVICE)\n",
    "    \n",
    "    # extract individual models for moe 30 experts\n",
    "    individual_models_moe_30 = extract_individual_models(stacked_params_moe_30, configs_moe_30, feature_probs_30, importances_30, device=DEVICE)\n",
    "    \n",
    "    # extract individual models for moe 10 experts\n",
    "    individual_models_moe_10 = extract_individual_models(stacked_params_moe_10, configs_moe_10, feature_probs_10, importances_10, device=DEVICE)\n",
    "    \n",
    "    # extract individual models for moe 20 experts\n",
    "    individual_models_moe_20 = extract_individual_models(stacked_params_moe_20, configs_moe_20, feature_probs_20, importances_20, device=DEVICE)\n",
    "    \n",
    "    # calculate weighted average features per dimension for dense\n",
    "    weighted_feats_per_dim_dense_30 = []\n",
    "    for model in individual_models_dense_30:\n",
    "        weighted_feat_per_dim, _, _ = weighted_avg_features_per_dim(model)\n",
    "        weighted_feats_per_dim_dense_30.append(weighted_feat_per_dim.item())\n",
    "    \n",
    "    # calculate weighted average features per dimension for moe 30 experts\n",
    "    weighted_feats_per_dim_moe_30 = []\n",
    "    for model in individual_models_moe_30:\n",
    "        weighted_feat_per_dim, _, _ = weighted_avg_features_per_dim(model)\n",
    "        weighted_feats_per_dim_moe_30.append(weighted_feat_per_dim.item())\n",
    "    \n",
    "    # calculate weighted average features per dimension for moe 10 experts\n",
    "    weighted_feats_per_dim_moe_10 = []\n",
    "    for model in individual_models_moe_10:\n",
    "        weighted_feat_per_dim, _, _ = weighted_avg_features_per_dim(model)\n",
    "        weighted_feats_per_dim_moe_10.append(weighted_feat_per_dim.item())\n",
    "    \n",
    "    # calculate weighted average features per dimension for moe 20 experts\n",
    "    weighted_feats_per_dim_moe_20 = []\n",
    "    for model in individual_models_moe_20:\n",
    "        weighted_feat_per_dim, _, _ = weighted_avg_features_per_dim(model)\n",
    "        weighted_feats_per_dim_moe_20.append(weighted_feat_per_dim.item())\n",
    "    \n",
    "    # transform to x-axis values (feature_probs = 1-s, so 1/(1-s) = 1/feature_probs)\n",
    "    x_values_30 = []\n",
    "    for s in feature_probs_30:\n",
    "        s_val = s.item()\n",
    "        if s_val <= 0:\n",
    "            # if s <= 0, use a very large value instead of infinity\n",
    "            x_values_30.append(1000)  \n",
    "        else:\n",
    "            x_values_30.append(1 / s_val)\n",
    "    \n",
    "    x_values_10 = []\n",
    "    for s in feature_probs_10:\n",
    "        s_val = s.item()\n",
    "        if s_val <= 0:\n",
    "            # if s <= 0, use a very large value instead of infinity\n",
    "            x_values_10.append(1000)  \n",
    "        else:\n",
    "            x_values_10.append(1 / s_val)\n",
    "    \n",
    "    x_values_20 = []\n",
    "    for s in feature_probs_20:\n",
    "        s_val = s.item()\n",
    "        if s_val <= 0:\n",
    "            # if s <= 0, use a very large value instead of infinity\n",
    "            x_values_20.append(1000)  \n",
    "        else:\n",
    "            x_values_20.append(1 / s_val)\n",
    "    \n",
    "    # set up matplotlib for LaTeX\n",
    "    plt.rcParams.update({\n",
    "        'text.usetex': True,\n",
    "        'font.family': 'serif',\n",
    "        'font.serif': ['Computer Modern'],\n",
    "        'font.size': 12,\n",
    "        'axes.labelsize': 14,\n",
    "        'axes.titlesize': 16,\n",
    "        'legend.fontsize': 12,\n",
    "        'xtick.labelsize': 12,\n",
    "        'ytick.labelsize': 12\n",
    "    })\n",
    "    \n",
    "    # create figure and axis\n",
    "    fig, ax = plt.subplots(figsize=(8, 6))\n",
    "    \n",
    "    # plot dense model with blue color\n",
    "    ax.semilogx(x_values_30, weighted_feats_per_dim_dense_30, \n",
    "                '-', linewidth=3, color='#1f77b4', \n",
    "                label='Dense')\n",
    "    \n",
    "    # plot moe model with 4 experts with classic orange color\n",
    "    ax.semilogx(x_values_30, weighted_feats_per_dim_moe_30, \n",
    "                '-', linewidth=3, color='#ff7f0e', \n",
    "                label='4 experts, $k=1$')\n",
    "    \n",
    "    # plot moe model with 10 experts with green color\n",
    "    ax.semilogx(x_values_10, weighted_feats_per_dim_moe_10, \n",
    "                '-', linewidth=3, color='#2ca02c', \n",
    "                label='10 experts, $k=2$')\n",
    "    \n",
    "    # plot moe model with 20 experts with red color\n",
    "    ax.semilogx(x_values_20, weighted_feats_per_dim_moe_20, \n",
    "                '-', linewidth=3, color='#d62728', \n",
    "                label='20 experts, $k=5$')\n",
    "    \n",
    "    # add reference line\n",
    "    ax.axhline(y=1, linestyle='--', color='orange', alpha=0.7, linewidth=2)\n",
    "    \n",
    "    # set labels and title with LaTeX formatting\n",
    "    ax.set_xlabel(r'$\\frac{1}{1-S}$ (log scale) $\\leftarrow$ dense $|$ sparse $\\rightarrow$')\n",
    "    ax.set_ylabel(r'Features Per Dimension')\n",
    "    # ax.set_title(r'Number of features per dimension: Dense vs MoE')\n",
    "    \n",
    "    # set y-axis limits\n",
    "    y_max = max(max(weighted_feats_per_dim_dense_30), max(weighted_feats_per_dim_moe_30), max(weighted_feats_per_dim_moe_10), max(weighted_feats_per_dim_moe_20)) * 1.1\n",
    "    ax.set_ylim(0, y_max)\n",
    "    \n",
    "    # set custom x-axis ticks from 1 to 10\n",
    "    ax.set_xticks([1, 2, 3, 4, 5, 6, 7, 8, 9, 10])\n",
    "    ax.set_xticklabels(['1', '2', '3', '4', '5', '6', '7', '8', '9', '10'])\n",
    "    \n",
    "    # add legend\n",
    "    ax.legend()\n",
    "    \n",
    "    # add grid for better readability\n",
    "    ax.grid(True, alpha=0.3)\n",
    "    \n",
    "    # tight layout to prevent label cutoff\n",
    "    plt.tight_layout()\n",
    "    \n",
    "    # save as PDF (vector format perfect for LaTeX)\n",
    "    plt.savefig(f'feats_per_dim_comp-4.pdf', format='pdf', bbox_inches='tight', dpi=300)\n",
    "    \n",
    "    # also save as PGF for direct LaTeX inclusion\n",
    "    plt.savefig('feats_per_dim_comp-4.pgf', format='pgf', bbox_inches='tight')\n",
    "    \n",
    "    # show only once\n",
    "    plt.show()\n",
    "    plt.close()  # close the figure to prevent duplicate display\n",
    "    \n",
    "    return fig"
   ]
  },
  {
   "cell_type": "code",
   "execution_count": 28,
   "id": "d306d147",
   "metadata": {},
   "outputs": [],
   "source": [
    "# load stuff\n",
    "density_vals_30 = [round(1.0 - i * (0.9 / 29), 2) for i in range(30)]\n",
    "\n",
    "stacked_params_dense_30 = torch.load('weights/stacked_params_dense.pt')\n",
    "stacked_params_moe_30 = torch.load('weights/stacked_params_moe-4t-1a.pt')\n",
    "stacked_params_moe_10 = torch.load('weights/stacked_params_moe-10t-2a.pt')\n",
    "stacked_params_moe_20 = torch.load('weights/stacked_params_moe-20t-5a.pt')\n",
    "\n",
    "configs_dense_30 = [\n",
    "    Config(n_features=100, n_hidden=20, n_experts=1, n_active_experts=1, load_balancing_loss=False)\n",
    "    for _ in density_vals_30\n",
    "    ]\n",
    "\n",
    "configs_moe_30 = [\n",
    "    Config(n_features=100, n_hidden=5, n_experts=4, n_active_experts=1, load_balancing_loss=False)\n",
    "    for _ in density_vals_30\n",
    "    ]\n",
    "\n",
    "configs_moe_10 = [\n",
    "    Config(n_features=100, n_hidden=2, n_experts=10, n_active_experts=2, load_balancing_loss=False)\n",
    "    for _ in density_vals_30\n",
    "    ]\n",
    "\n",
    "configs_moe_20 = [\n",
    "    Config(n_features=100, n_hidden=1, n_experts=20, n_active_experts=5, load_balancing_loss=False)\n",
    "    for _ in density_vals_30\n",
    "    ]\n",
    "\n",
    "feature_probs_10 = [torch.tensor(density) for density in density_vals_30]\n",
    "importances_10 = [torch.ones(config.n_features) for config in configs_moe_10]\n"
   ]
  },
  {
   "cell_type": "code",
   "execution_count": null,
   "id": "bf46fd5e",
   "metadata": {},
   "outputs": [
    {
     "data": {
      "image/png": "[encoded data removed]",
      "text/plain": [
       "<Figure size 800x600 with 1 Axes>"
      ]
     },
     "metadata": {},
     "output_type": "display_data"
    },
    {
     "data": {
      "image/png": "[encoded data removed]",
      "text/plain": [
       "<Figure size 800x600 with 1 Axes>"
      ]
     },
     "execution_count": 29,
     "metadata": {},
     "output_type": "execute_result"
    }
   ],
   "source": [
    "plot_feats_per_dim_comparison_all(\n",
    "    stacked_params_dense_30,\n",
    "    configs_dense_30,\n",
    "    stacked_params_moe_30,\n",
    "    configs_moe_30,\n",
    "    stacked_params_moe_10,\n",
    "    configs_moe_10,\n",
    "    stacked_params_moe_20,\n",
    "    configs_moe_20,\n",
    "    feature_probs_10,\n",
    "    importances_10,\n",
    "    feature_probs_10,\n",
    "    importances_10,\n",
    "    feature_probs_10,\n",
    "    importances_10\n",
    ")"
   ]
  },
  {
   "cell_type": "code",
   "execution_count": 93,
   "id": "df18313b",
   "metadata": {},
   "outputs": [],
   "source": [
    "def render_features_bar(model, save_path=None):\n",
    "    \"\"\"Render bar plots showing feature norms colored by polysemanticity\"\"\"\n",
    "    cfg = model.config\n",
    "    # expert weights\n",
    "    W_exp = model.W_experts.detach()\n",
    "    W_norm = W_exp / (1e-5 + torch.linalg.norm(W_exp, 2, dim=2, keepdim=True))\n",
    "\n",
    "    interference = torch.einsum('ifh,igh->ifg', W_norm, W_exp) # (n_experts, n_features, n_features)\n",
    "    interference[:, torch.arange(cfg.n_features), torch.arange(cfg.n_features)] = 0 # set diagonal to 0\n",
    "\n",
    "    polysemanticity = torch.linalg.norm(interference, dim=-1).cpu()\n",
    "    norms = torch.linalg.norm(W_exp, 2, dim=-1).cpu()\n",
    "\n",
    "    x = torch.arange(cfg.n_features)\n",
    "    \n",
    "    # set up matplotlib for LaTeX\n",
    "    plt.rcParams.update({\n",
    "        'text.usetex': True,\n",
    "        'font.family': 'serif',\n",
    "        'font.serif': ['Computer Modern'],\n",
    "        'font.size': 12,\n",
    "        'axes.labelsize': 14,\n",
    "        'axes.titlesize': 16,\n",
    "        'legend.fontsize': 12,\n",
    "        'xtick.labelsize': 12,\n",
    "        'ytick.labelsize': 12\n",
    "    })\n",
    "    \n",
    "    fig, axes = plt.subplots(cfg.n_experts, 1, figsize=(6, 4 * cfg.n_experts))\n",
    "    if cfg.n_experts == 1:\n",
    "        axes = [axes]\n",
    "    \n",
    "    for expert_idx in range(cfg.n_experts):\n",
    "        ax = axes[expert_idx]\n",
    "        \n",
    "        # Create bar plot with color mapping and narrower bars\n",
    "        bars = ax.bar(x, norms[expert_idx], \n",
    "                     color=plt.cm.viridis(polysemanticity[expert_idx] / polysemanticity[expert_idx].max()),\n",
    "                     width=0.6)\n",
    "        \n",
    "        # Add colorbar using ScalarMappable\n",
    "        sm = plt.cm.ScalarMappable(cmap='viridis', norm=plt.Normalize(vmin=0, vmax=polysemanticity[expert_idx].max()))\n",
    "        sm.set_array([])\n",
    "        cbar = plt.colorbar(sm, ax=ax)\n",
    "        cbar.set_label('Superposition')\n",
    "        \n",
    "        # Add vertical line at n_hidden boundary\n",
    "        ax.axvline(x=(cfg.n_hidden-0.5), color='red', linestyle='--', alpha=0.7, linewidth=1)\n",
    "        \n",
    "        ax.set_title(f'Feature Norms')\n",
    "        ax.set_xlabel('Features $\\\\rightarrow$')\n",
    "        ax.set_ylabel('Norm $||W_i||$')\n",
    "        ax.grid(True, alpha=0.3)\n",
    "        \n",
    "        # Set x-axis ticks to go from 0 to 5 to 10 to 15\n",
    "        ax.set_xticks([0, 5, 10, 15])\n",
    "        \n",
    "        # Set x-axis limits to reduce horizontal width\n",
    "        ax.set_xlim(-0.5, cfg.n_features - 0.5)\n",
    "    \n",
    "    plt.tight_layout()\n",
    "    \n",
    "    if save_path:\n",
    "        plt.savefig(f\"{save_path}_bar.pdf\", bbox_inches='tight')\n",
    "        plt.savefig(f\"{save_path}_bar.pgf\", bbox_inches='tight')\n",
    "    \n",
    "    plt.show()\n",
    "    return fig\n",
    "\n",
    "def render_features_heatmap(model, save_path=None):\n",
    "    \"\"\"Render heatmaps showing weight-weight transpose matrices\"\"\"\n",
    "    cfg = model.config\n",
    "    W_exp = model.W_experts.detach()\n",
    "    \n",
    "    WWT = torch.einsum('eij,ekj->eik', W_exp, W_exp).cpu() # (n_experts, n_features, n_features)\n",
    "    \n",
    "    # set up matplotlib for LaTeX\n",
    "    plt.rcParams.update({\n",
    "        'text.usetex': True,\n",
    "        'font.family': 'serif',\n",
    "        'font.serif': ['Computer Modern'],\n",
    "        'font.size': 12,\n",
    "        'axes.labelsize': 14,\n",
    "        'axes.titlesize': 16,\n",
    "        'legend.fontsize': 12,\n",
    "        'xtick.labelsize': 12,\n",
    "        'ytick.labelsize': 12\n",
    "    })\n",
    "    \n",
    "    fig, axes = plt.subplots(cfg.n_experts, 1, figsize=(6, 4 * cfg.n_experts))\n",
    "    if cfg.n_experts == 1:\n",
    "        axes = [axes]\n",
    "    \n",
    "    for expert_idx in range(cfg.n_experts):\n",
    "        ax = axes[expert_idx]\n",
    "        \n",
    "        # Create heatmap with square aspect ratio\n",
    "        im = ax.imshow(WWT[expert_idx].numpy(), \n",
    "                      cmap='coolwarm', \n",
    "                      vmin=-1, vmax=1,\n",
    "                      aspect='equal')\n",
    "        \n",
    "        # Add colorbar\n",
    "        cbar = plt.colorbar(im, ax=ax)\n",
    "        cbar.set_label('Weight Element Values')\n",
    "        \n",
    "        ax.set_title(f'$W^TW$')\n",
    "        # ax.set_xlabel('Feature')\n",
    "        # ax.set_ylabel('Feature')\n",
    "        \n",
    "        # Set y-axis ticks to go from 0 to 5 to 10 to 15\n",
    "        ax.set_yticks([0, 5, 10, 15])\n",
    "        ax.set_xticks([0, 5, 10, 15])\n",
    "    \n",
    "    plt.tight_layout()\n",
    "    \n",
    "    if save_path:\n",
    "        plt.savefig(f\"{save_path}_heatmap.pdf\", bbox_inches='tight')\n",
    "        plt.savefig(f\"{save_path}_heatmap.pgf\", bbox_inches='tight')\n",
    "    \n",
    "    plt.show()\n",
    "    return fig"
   ]
  },
  {
   "cell_type": "code",
   "execution_count": 91,
   "id": "5bcd807d",
   "metadata": {},
   "outputs": [
    {
     "name": "stdout",
     "output_type": "stream",
     "text": [
      "Step 0: loss=0.125578, lr=0.001000\n",
      "Step 1000: loss=0.030150, lr=0.001000\n",
      "Step 2000: loss=0.025532, lr=0.001000\n",
      "Step 3000: loss=0.027935, lr=0.001000\n",
      "Step 4000: loss=0.031820, lr=0.001000\n",
      "Step 5000: loss=0.028606, lr=0.001000\n",
      "Step 6000: loss=0.028547, lr=0.001000\n",
      "Step 7000: loss=0.027154, lr=0.001000\n",
      "Step 8000: loss=0.029762, lr=0.001000\n",
      "Step 9000: loss=0.024989, lr=0.001000\n",
      "Step 9999: loss=0.028256, lr=0.001000\n"
     ]
    }
   ],
   "source": [
    "config_m = Config(\n",
    "    n_features = 20,\n",
    "    n_hidden = 6,\n",
    "    n_experts = 1,\n",
    "    n_active_experts = 1,\n",
    "    load_balancing_loss = False,\n",
    ")\n",
    "model_m = MoEModel(\n",
    "    config=config_m,\n",
    "    device=DEVICE,\n",
    "    importance = 0.7**torch.arange(config_m.n_features), # torch.ones(config.n_features),\n",
    "    feature_probability = torch.tensor(0.1)\n",
    ")\n",
    "optimize(model_m, n_batch=1024, steps=10000, print_freq=1000)"
   ]
  },
  {
   "cell_type": "code",
   "execution_count": 96,
   "id": "33dd43ba",
   "metadata": {},
   "outputs": [
    {
     "data": {
      "image/png": "[encoded data removed]",
      "text/plain": [
       "<Figure size 600x400 with 2 Axes>"
      ]
     },
     "metadata": {},
     "output_type": "display_data"
    },
    {
     "data": {
      "image/png": "[encoded data removed]",
      "text/plain": [
       "<Figure size 600x400 with 2 Axes>"
      ]
     },
     "execution_count": 96,
     "metadata": {},
     "output_type": "execute_result"
    }
   ],
   "source": [
    "render_features_bar(model_m, save_path='d-bar')"
   ]
  },
  {
   "cell_type": "code",
   "execution_count": 97,
   "id": "cbfc2bc8",
   "metadata": {},
   "outputs": [
    {
     "data": {
      "image/png": "[encoded data removed]",
      "text/plain": [
       "<Figure size 600x400 with 2 Axes>"
      ]
     },
     "metadata": {},
     "output_type": "display_data"
    },
    {
     "data": {
      "image/png": "[encoded data removed]",
      "text/plain": [
       "<Figure size 600x400 with 2 Axes>"
      ]
     },
     "execution_count": 97,
     "metadata": {},
     "output_type": "execute_result"
    }
   ],
   "source": [
    "render_features_heatmap(model_m, save_path='d-heat')"
   ]
  },
  {
   "cell_type": "code",
   "execution_count": null,
   "id": "9b372214",
   "metadata": {},
   "outputs": [],
   "source": []
  }
 ],
 "metadata": {
  "kernelspec": {
   "display_name": ".venv",
   "language": "python",
   "name": "python3"
  },
  "language_info": {
   "codemirror_mode": {
    "name": "ipython",
    "version": 3
   },
   "file_extension": ".py",
   "mimetype": "text/x-python",
   "name": "python",
   "nbconvert_exporter": "python",
   "pygments_lexer": "ipython3",
   "version": "3.12.11"
  }
 },
 "nbformat": 4,
 "nbformat_minor": 5
}
